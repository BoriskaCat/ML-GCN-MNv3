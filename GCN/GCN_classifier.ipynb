{
 "cells": [
  {
   "metadata": {
    "ExecuteTime": {
     "end_time": "2024-06-05T21:53:02.438914Z",
     "start_time": "2024-06-05T21:53:02.435678Z"
    }
   },
   "cell_type": "code",
   "source": [
    "import os\n",
    "import torch\n",
    "from torch_geometric.data import Data\n",
    "from torch_geometric.loader import DataLoader\n",
    "from sklearn.preprocessing import LabelEncoder\n",
    "import numpy as np"
   ],
   "id": "b88143ba2747d73d",
   "outputs": [],
   "execution_count": 134
  },
  {
   "metadata": {
    "ExecuteTime": {
     "end_time": "2024-06-05T21:53:02.523994Z",
     "start_time": "2024-06-05T21:53:02.520658Z"
    }
   },
   "cell_type": "code",
   "source": [
    "# Define the root directory containing your dataset\n",
    "root_dir = \"D:/Projects/ML/GCN/Dataset_GCN_classifier_mobilenetv3\""
   ],
   "id": "5807c75174bb066d",
   "outputs": [],
   "execution_count": 135
  },
  {
   "metadata": {
    "ExecuteTime": {
     "end_time": "2024-06-05T21:53:02.543234Z",
     "start_time": "2024-06-05T21:53:02.539Z"
    }
   },
   "cell_type": "code",
   "source": [
    "def label_mapping(label):\n",
    "    return label"
   ],
   "id": "243e1bd9afc30868",
   "outputs": [],
   "execution_count": 136
  },
  {
   "metadata": {
    "ExecuteTime": {
     "end_time": "2024-06-05T21:53:02.553018Z",
     "start_time": "2024-06-05T21:53:02.545261Z"
    }
   },
   "cell_type": "code",
   "source": [
    "# Helper function to load data\n",
    "def load_data(folder):\n",
    "    data_list = []\n",
    "    for filename in os.listdir(folder):\n",
    "        if filename.endswith(\".txt\"):\n",
    "            filepath = os.path.join(folder, filename)\n",
    "            with open(filepath, 'r') as f:\n",
    "                lines = f.readlines()\n",
    "                coords = []\n",
    "                features = []\n",
    "                labels = []\n",
    "                for line in lines:\n",
    "                    parts = line.strip().split()\n",
    "                    label = int(parts[0])\n",
    "                    x1, y1, x2, y2 = map(int, parts[1:5])\n",
    "                    feature_vector = list(map(float, parts[5:]))\n",
    "                    coords.append([x1, y1, x2, y2])\n",
    "                    features.append(feature_vector)\n",
    "                    labels.append(label)\n",
    "                \n",
    "                coords = np.array(coords)\n",
    "                features = np.array(features)\n",
    "                \n",
    "        # Compute edges based on distance threshold\n",
    "        edges = []\n",
    "        distances = []\n",
    "        # mean_length = np.mean(np.linalg.norm(coords[:, :2] - coords[:, 2:]))\n",
    "        mean_length = 10000\n",
    "        \n",
    "        for i in range(len(coords)):\n",
    "            for j in range(i+1, len(coords)):\n",
    "                distance = np.linalg.norm(\n",
    "                    (coords[i][:2] + coords[i][2:]) / 2 - \n",
    "                    (coords[j][:2] + coords[j][2:]) / 2)\n",
    "                distances.append(distance)\n",
    "        \n",
    "        if len(distances) == 0:\n",
    "            continue\n",
    "        mean_distance = sum(distances) / len(distances)\n",
    "        \n",
    "        for i in range(len(coords)):\n",
    "            for j in range(i+1, len(coords)):\n",
    "                distance = np.linalg.norm(\n",
    "                    (coords[i][:2] + coords[i][2:]) / 2 - \n",
    "                    (coords[j][:2] + coords[j][2:]) / 2)\n",
    "                if distance < mean_distance:\n",
    "                    edges.append([i, j])\n",
    "                    \n",
    "        edge_index = torch.tensor(edges, dtype=torch.long).t().contiguous()\n",
    "        x = torch.tensor(features, dtype=torch.float)\n",
    "        y = torch.tensor(labels, dtype=torch.long)\n",
    "        \n",
    "        data = Data(x=x, edge_index=edge_index, y=y)\n",
    "        data_list.append(data)\n",
    "    return data_list"
   ],
   "id": "627ddc30e742dd18",
   "outputs": [],
   "execution_count": 137
  },
  {
   "metadata": {
    "ExecuteTime": {
     "end_time": "2024-06-05T21:54:25.608029Z",
     "start_time": "2024-06-05T21:53:02.582427Z"
    }
   },
   "cell_type": "code",
   "source": [
    "# Load datasets\n",
    "valid_data = load_data(os.path.join(root_dir, 'valid'))\n",
    "print(\"valid.OK\")\n",
    "test_data = load_data(os.path.join(root_dir, 'test'))\n",
    "print(\"test.OK\")\n",
    "train_data = load_data(os.path.join(root_dir, 'train'))\n",
    "print(\"train.OK\")"
   ],
   "id": "b5ac37ac70b8b21e",
   "outputs": [
    {
     "name": "stdout",
     "output_type": "stream",
     "text": [
      "valid.OK\n",
      "test.OK\n",
      "train.OK\n"
     ]
    }
   ],
   "execution_count": 138
  },
  {
   "metadata": {
    "ExecuteTime": {
     "end_time": "2024-06-05T21:54:25.618145Z",
     "start_time": "2024-06-05T21:54:25.609037Z"
    }
   },
   "cell_type": "code",
   "source": [
    "train_loader = DataLoader(train_data, batch_size=32, shuffle=True)\n",
    "valid_loader = DataLoader(valid_data, batch_size=32, shuffle=False)\n",
    "test_loader = DataLoader(test_data, batch_size=32, shuffle=False)"
   ],
   "id": "f275f320e559f392",
   "outputs": [],
   "execution_count": 139
  },
  {
   "metadata": {},
   "cell_type": "markdown",
   "source": "Define the model",
   "id": "1553eb054dbae6ac"
  },
  {
   "metadata": {
    "ExecuteTime": {
     "end_time": "2024-06-05T21:54:25.626583Z",
     "start_time": "2024-06-05T21:54:25.619452Z"
    }
   },
   "cell_type": "code",
   "source": [
    "import torch\n",
    "import torch.nn.functional as F\n",
    "from torch_geometric.nn import GCNConv, global_mean_pool"
   ],
   "id": "b4b2c52373a7e64c",
   "outputs": [],
   "execution_count": 140
  },
  {
   "metadata": {
    "ExecuteTime": {
     "end_time": "2024-06-05T21:54:25.632951Z",
     "start_time": "2024-06-05T21:54:25.627587Z"
    }
   },
   "cell_type": "code",
   "source": [
    "class GCN(torch.nn.Module):\n",
    "    def __init__(self, in_channels, hidden_channels, out_channels):\n",
    "        super(GCN, self).__init__()\n",
    "        self.conv1 = GCNConv(in_channels, hidden_channels)\n",
    "        self.conv2 = GCNConv(hidden_channels, out_channels)\n",
    "\n",
    "    def forward(self, data):\n",
    "        x, edge_index = data.x, data.edge_index\n",
    "        x = self.conv1(x, edge_index)\n",
    "        x = F.relu(x)\n",
    "        x = F.dropout(x, training=self.training)\n",
    "        x = self.conv2(x, edge_index)\n",
    "        return F.log_softmax(x, dim=1)"
   ],
   "id": "5a4b24b922ddbd15",
   "outputs": [],
   "execution_count": 141
  },
  {
   "metadata": {
    "ExecuteTime": {
     "end_time": "2024-06-05T21:54:25.638996Z",
     "start_time": "2024-06-05T21:54:25.633959Z"
    }
   },
   "cell_type": "code",
   "source": "model = GCN(in_channels=256, hidden_channels=82, out_channels=4)",
   "id": "d99730805db8bebb",
   "outputs": [],
   "execution_count": 142
  },
  {
   "metadata": {},
   "cell_type": "markdown",
   "source": "Train",
   "id": "f63eccf72d449eb0"
  },
  {
   "metadata": {
    "ExecuteTime": {
     "end_time": "2024-06-05T21:54:25.642603Z",
     "start_time": "2024-06-05T21:54:25.640002Z"
    }
   },
   "cell_type": "code",
   "source": "import torch.optim as optim",
   "id": "adceb386d1f606a",
   "outputs": [],
   "execution_count": 143
  },
  {
   "metadata": {
    "ExecuteTime": {
     "end_time": "2024-06-05T21:54:25.648690Z",
     "start_time": "2024-06-05T21:54:25.643610Z"
    }
   },
   "cell_type": "code",
   "source": [
    "device = torch.device('cuda' if torch.cuda.is_available() else 'cpu')\n",
    "model = model.to(device)"
   ],
   "id": "60f9e362c62747aa",
   "outputs": [],
   "execution_count": 144
  },
  {
   "metadata": {
    "ExecuteTime": {
     "end_time": "2024-06-05T21:54:25.652814Z",
     "start_time": "2024-06-05T21:54:25.649698Z"
    }
   },
   "cell_type": "code",
   "source": [
    "optimizer = optim.Adam(model.parameters(), lr=0.0001)\n",
    "criterion = torch.nn.CrossEntropyLoss()"
   ],
   "id": "8c2f4cb17b628cef",
   "outputs": [],
   "execution_count": 145
  },
  {
   "metadata": {
    "ExecuteTime": {
     "end_time": "2024-06-05T21:54:25.657964Z",
     "start_time": "2024-06-05T21:54:25.653822Z"
    }
   },
   "cell_type": "code",
   "source": [
    "def train():\n",
    "    model.train()\n",
    "    for data in train_loader:\n",
    "        data = data.to(device)\n",
    "        optimizer.zero_grad()\n",
    "        out = model(data)\n",
    "        loss = criterion(out, data.y)\n",
    "        loss.backward()\n",
    "        optimizer.step()"
   ],
   "id": "fd68ebb2aacb0f0c",
   "outputs": [],
   "execution_count": 146
  },
  {
   "metadata": {
    "ExecuteTime": {
     "end_time": "2024-06-05T21:54:25.663146Z",
     "start_time": "2024-06-05T21:54:25.659971Z"
    }
   },
   "cell_type": "code",
   "source": [
    "def test(loader):\n",
    "    model.eval()\n",
    "    correct = 0\n",
    "    for data in loader:\n",
    "        data = data.to(device)\n",
    "        out = model(data)\n",
    "        pred = out.argmax(dim=1)\n",
    "        correct += (pred == data.y).sum().item()\n",
    "    return correct / len(loader.dataset)"
   ],
   "id": "839e39190d2cd492",
   "outputs": [],
   "execution_count": 147
  },
  {
   "metadata": {
    "ExecuteTime": {
     "end_time": "2024-06-05T21:57:57.867037Z",
     "start_time": "2024-06-05T21:54:25.663146Z"
    }
   },
   "cell_type": "code",
   "source": [
    "for epoch in range(1, 500):\n",
    "    train()\n",
    "    train_acc = test(train_loader)\n",
    "    val_acc = test(valid_loader)\n",
    "    print(f'Epoch: {epoch:03d}, Train Acc: {train_acc:.6f}, '\n",
    "          f'Val Acc: {val_acc:.6f}')\n",
    "    torch.save(model.state_dict(), os.path.join(\n",
    "        \"D:/Projects/ML/GCN/Framework/cuda_tree_model/gcn_model_v8\", \n",
    "        f'gcn_epoch_{epoch}.pth'))\n"
   ],
   "id": "f7f11df5b0bba6c9",
   "outputs": [
    {
     "name": "stdout",
     "output_type": "stream",
     "text": [
      "Epoch: 001, Train Acc: 24.989309, Val Acc: 25.573333\n",
      "Epoch: 002, Train Acc: 42.435855, Val Acc: 40.726667\n",
      "Epoch: 003, Train Acc: 49.762336, Val Acc: 48.506667\n",
      "Epoch: 004, Train Acc: 51.881579, Val Acc: 51.206667\n",
      "Epoch: 005, Train Acc: 52.567434, Val Acc: 51.913333\n",
      "Epoch: 006, Train Acc: 52.934211, Val Acc: 52.300000\n",
      "Epoch: 007, Train Acc: 53.174342, Val Acc: 52.813333\n",
      "Epoch: 008, Train Acc: 53.363487, Val Acc: 53.040000\n",
      "Epoch: 009, Train Acc: 53.473684, Val Acc: 53.373333\n",
      "Epoch: 010, Train Acc: 53.566612, Val Acc: 53.660000\n",
      "Epoch: 011, Train Acc: 53.639803, Val Acc: 53.873333\n",
      "Epoch: 012, Train Acc: 53.708882, Val Acc: 53.960000\n",
      "Epoch: 013, Train Acc: 53.800164, Val Acc: 53.993333\n",
      "Epoch: 014, Train Acc: 53.847862, Val Acc: 54.060000\n",
      "Epoch: 015, Train Acc: 53.958882, Val Acc: 54.173333\n",
      "Epoch: 016, Train Acc: 54.039474, Val Acc: 54.226667\n",
      "Epoch: 017, Train Acc: 54.097862, Val Acc: 54.213333\n",
      "Epoch: 018, Train Acc: 54.190789, Val Acc: 54.266667\n",
      "Epoch: 019, Train Acc: 54.202303, Val Acc: 54.286667\n",
      "Epoch: 020, Train Acc: 54.287829, Val Acc: 54.293333\n",
      "Epoch: 021, Train Acc: 54.361020, Val Acc: 54.373333\n",
      "Epoch: 022, Train Acc: 54.394737, Val Acc: 54.373333\n",
      "Epoch: 023, Train Acc: 54.421053, Val Acc: 54.320000\n",
      "Epoch: 024, Train Acc: 54.449836, Val Acc: 54.360000\n",
      "Epoch: 025, Train Acc: 54.479441, Val Acc: 54.333333\n",
      "Epoch: 026, Train Acc: 54.537007, Val Acc: 54.366667\n",
      "Epoch: 027, Train Acc: 54.527138, Val Acc: 54.386667\n",
      "Epoch: 028, Train Acc: 54.555099, Val Acc: 54.406667\n",
      "Epoch: 029, Train Acc: 54.573191, Val Acc: 54.413333\n",
      "Epoch: 030, Train Acc: 54.628289, Val Acc: 54.420000\n",
      "Epoch: 031, Train Acc: 54.689145, Val Acc: 54.446667\n",
      "Epoch: 032, Train Acc: 54.726974, Val Acc: 54.460000\n",
      "Epoch: 033, Train Acc: 54.757401, Val Acc: 54.460000\n",
      "Epoch: 034, Train Acc: 54.803454, Val Acc: 54.466667\n",
      "Epoch: 035, Train Acc: 54.840461, Val Acc: 54.473333\n",
      "Epoch: 036, Train Acc: 54.895559, Val Acc: 54.513333\n",
      "Epoch: 037, Train Acc: 54.920230, Val Acc: 54.520000\n",
      "Epoch: 038, Train Acc: 54.927632, Val Acc: 54.520000\n",
      "Epoch: 039, Train Acc: 54.973684, Val Acc: 54.546667\n",
      "Epoch: 040, Train Acc: 54.971217, Val Acc: 54.566667\n",
      "Epoch: 041, Train Acc: 54.982730, Val Acc: 54.566667\n",
      "Epoch: 042, Train Acc: 55.000822, Val Acc: 54.526667\n",
      "Epoch: 043, Train Acc: 55.000822, Val Acc: 54.560000\n",
      "Epoch: 044, Train Acc: 55.032895, Val Acc: 54.566667\n",
      "Epoch: 045, Train Acc: 55.055099, Val Acc: 54.560000\n",
      "Epoch: 046, Train Acc: 55.062500, Val Acc: 54.553333\n",
      "Epoch: 047, Train Acc: 55.072368, Val Acc: 54.560000\n",
      "Epoch: 048, Train Acc: 55.082237, Val Acc: 54.580000\n",
      "Epoch: 049, Train Acc: 55.095395, Val Acc: 54.620000\n",
      "Epoch: 050, Train Acc: 55.101151, Val Acc: 54.580000\n",
      "Epoch: 051, Train Acc: 55.100329, Val Acc: 54.600000\n",
      "Epoch: 052, Train Acc: 55.117599, Val Acc: 54.606667\n",
      "Epoch: 053, Train Acc: 55.123355, Val Acc: 54.640000\n",
      "Epoch: 054, Train Acc: 55.137336, Val Acc: 54.640000\n",
      "Epoch: 055, Train Acc: 55.137336, Val Acc: 54.673333\n",
      "Epoch: 056, Train Acc: 55.163651, Val Acc: 54.673333\n",
      "Epoch: 057, Train Acc: 55.168586, Val Acc: 54.693333\n",
      "Epoch: 058, Train Acc: 55.186678, Val Acc: 54.680000\n",
      "Epoch: 059, Train Acc: 55.204770, Val Acc: 54.673333\n",
      "Epoch: 060, Train Acc: 55.217928, Val Acc: 54.666667\n",
      "Epoch: 061, Train Acc: 55.221217, Val Acc: 54.700000\n",
      "Epoch: 062, Train Acc: 55.258224, Val Acc: 54.693333\n",
      "Epoch: 063, Train Acc: 55.246711, Val Acc: 54.733333\n",
      "Epoch: 064, Train Acc: 55.276316, Val Acc: 54.726667\n",
      "Epoch: 065, Train Acc: 55.281250, Val Acc: 54.726667\n",
      "Epoch: 066, Train Acc: 55.309211, Val Acc: 54.720000\n",
      "Epoch: 067, Train Acc: 55.339638, Val Acc: 54.720000\n",
      "Epoch: 068, Train Acc: 55.357730, Val Acc: 54.733333\n",
      "Epoch: 069, Train Acc: 55.354441, Val Acc: 54.733333\n",
      "Epoch: 070, Train Acc: 55.371711, Val Acc: 54.740000\n",
      "Epoch: 071, Train Acc: 55.378289, Val Acc: 54.746667\n",
      "Epoch: 072, Train Acc: 55.383224, Val Acc: 54.753333\n",
      "Epoch: 073, Train Acc: 55.405428, Val Acc: 54.740000\n",
      "Epoch: 074, Train Acc: 55.408717, Val Acc: 54.733333\n",
      "Epoch: 075, Train Acc: 55.416118, Val Acc: 54.746667\n",
      "Epoch: 076, Train Acc: 55.430921, Val Acc: 54.733333\n",
      "Epoch: 077, Train Acc: 55.418586, Val Acc: 54.753333\n",
      "Epoch: 078, Train Acc: 55.446546, Val Acc: 54.766667\n",
      "Epoch: 079, Train Acc: 55.449013, Val Acc: 54.760000\n",
      "Epoch: 080, Train Acc: 55.467105, Val Acc: 54.773333\n",
      "Epoch: 081, Train Acc: 55.494243, Val Acc: 54.760000\n",
      "Epoch: 082, Train Acc: 55.488487, Val Acc: 54.760000\n",
      "Epoch: 083, Train Acc: 55.509868, Val Acc: 54.740000\n",
      "Epoch: 084, Train Acc: 55.504112, Val Acc: 54.766667\n",
      "Epoch: 085, Train Acc: 55.522204, Val Acc: 54.793333\n",
      "Epoch: 086, Train Acc: 55.533717, Val Acc: 54.793333\n",
      "Epoch: 087, Train Acc: 55.537007, Val Acc: 54.806667\n",
      "Epoch: 088, Train Acc: 55.545230, Val Acc: 54.773333\n",
      "Epoch: 089, Train Acc: 55.568257, Val Acc: 54.760000\n",
      "Epoch: 090, Train Acc: 55.585526, Val Acc: 54.786667\n",
      "Epoch: 091, Train Acc: 55.575658, Val Acc: 54.740000\n",
      "Epoch: 092, Train Acc: 55.583059, Val Acc: 54.726667\n",
      "Epoch: 093, Train Acc: 55.606086, Val Acc: 54.733333\n",
      "Epoch: 094, Train Acc: 55.595395, Val Acc: 54.746667\n",
      "Epoch: 095, Train Acc: 55.624178, Val Acc: 54.733333\n",
      "Epoch: 096, Train Acc: 55.632401, Val Acc: 54.753333\n",
      "Epoch: 097, Train Acc: 55.632401, Val Acc: 54.773333\n",
      "Epoch: 098, Train Acc: 55.646382, Val Acc: 54.760000\n",
      "Epoch: 099, Train Acc: 55.662829, Val Acc: 54.740000\n",
      "Epoch: 100, Train Acc: 55.665296, Val Acc: 54.753333\n",
      "Epoch: 101, Train Acc: 55.656250, Val Acc: 54.760000\n",
      "Epoch: 102, Train Acc: 55.678454, Val Acc: 54.766667\n",
      "Epoch: 103, Train Acc: 55.675164, Val Acc: 54.733333\n",
      "Epoch: 104, Train Acc: 55.701480, Val Acc: 54.773333\n",
      "Epoch: 105, Train Acc: 55.703947, Val Acc: 54.746667\n",
      "Epoch: 106, Train Acc: 55.733553, Val Acc: 54.786667\n",
      "Epoch: 107, Train Acc: 55.726151, Val Acc: 54.793333\n",
      "Epoch: 108, Train Acc: 55.768092, Val Acc: 54.806667\n",
      "Epoch: 109, Train Acc: 55.730263, Val Acc: 54.773333\n",
      "Epoch: 110, Train Acc: 55.730263, Val Acc: 54.773333\n",
      "Epoch: 111, Train Acc: 55.783717, Val Acc: 54.793333\n",
      "Epoch: 112, Train Acc: 55.781250, Val Acc: 54.780000\n",
      "Epoch: 113, Train Acc: 55.774671, Val Acc: 54.760000\n",
      "Epoch: 114, Train Acc: 55.799342, Val Acc: 54.786667\n",
      "Epoch: 115, Train Acc: 55.769737, Val Acc: 54.726667\n",
      "Epoch: 116, Train Acc: 55.830592, Val Acc: 54.746667\n",
      "Epoch: 117, Train Acc: 55.840461, Val Acc: 54.766667\n",
      "Epoch: 118, Train Acc: 55.848684, Val Acc: 54.766667\n",
      "Epoch: 119, Train Acc: 55.851974, Val Acc: 54.760000\n",
      "Epoch: 120, Train Acc: 55.836349, Val Acc: 54.740000\n",
      "Epoch: 121, Train Acc: 55.863487, Val Acc: 54.773333\n",
      "Epoch: 122, Train Acc: 55.877467, Val Acc: 54.773333\n",
      "Epoch: 123, Train Acc: 55.878289, Val Acc: 54.773333\n",
      "Epoch: 124, Train Acc: 55.883224, Val Acc: 54.766667\n",
      "Epoch: 125, Train Acc: 55.890625, Val Acc: 54.780000\n",
      "Epoch: 126, Train Acc: 55.904605, Val Acc: 54.820000\n",
      "Epoch: 127, Train Acc: 55.907895, Val Acc: 54.793333\n",
      "Epoch: 128, Train Acc: 55.912007, Val Acc: 54.806667\n",
      "Epoch: 129, Train Acc: 55.945724, Val Acc: 54.806667\n",
      "Epoch: 130, Train Acc: 55.930099, Val Acc: 54.786667\n",
      "Epoch: 131, Train Acc: 55.948191, Val Acc: 54.786667\n",
      "Epoch: 132, Train Acc: 55.957237, Val Acc: 54.806667\n",
      "Epoch: 133, Train Acc: 55.942434, Val Acc: 54.813333\n",
      "Epoch: 134, Train Acc: 55.969572, Val Acc: 54.840000\n",
      "Epoch: 135, Train Acc: 55.962993, Val Acc: 54.840000\n",
      "Epoch: 136, Train Acc: 55.981086, Val Acc: 54.833333\n",
      "Epoch: 137, Train Acc: 55.988487, Val Acc: 54.833333\n",
      "Epoch: 138, Train Acc: 55.997533, Val Acc: 54.840000\n",
      "Epoch: 139, Train Acc: 56.002467, Val Acc: 54.840000\n",
      "Epoch: 140, Train Acc: 55.993421, Val Acc: 54.833333\n",
      "Epoch: 141, Train Acc: 55.990954, Val Acc: 54.866667\n",
      "Epoch: 142, Train Acc: 56.009046, Val Acc: 54.866667\n",
      "Epoch: 143, Train Acc: 56.008224, Val Acc: 54.893333\n",
      "Epoch: 144, Train Acc: 56.043586, Val Acc: 54.880000\n",
      "Epoch: 145, Train Acc: 56.016447, Val Acc: 54.900000\n",
      "Epoch: 146, Train Acc: 56.049342, Val Acc: 54.906667\n",
      "Epoch: 147, Train Acc: 56.036184, Val Acc: 54.920000\n",
      "Epoch: 148, Train Acc: 56.028783, Val Acc: 54.913333\n",
      "Epoch: 149, Train Acc: 56.052632, Val Acc: 54.893333\n",
      "Epoch: 150, Train Acc: 56.019737, Val Acc: 54.900000\n",
      "Epoch: 151, Train Acc: 56.051809, Val Acc: 54.900000\n",
      "Epoch: 152, Train Acc: 56.041941, Val Acc: 54.886667\n",
      "Epoch: 153, Train Acc: 56.017270, Val Acc: 54.893333\n",
      "Epoch: 154, Train Acc: 56.064967, Val Acc: 54.906667\n",
      "Epoch: 155, Train Acc: 56.084704, Val Acc: 54.933333\n",
      "Epoch: 156, Train Acc: 56.055921, Val Acc: 54.946667\n",
      "Epoch: 157, Train Acc: 56.098684, Val Acc: 54.953333\n",
      "Epoch: 158, Train Acc: 56.049342, Val Acc: 54.933333\n",
      "Epoch: 159, Train Acc: 56.087993, Val Acc: 54.946667\n",
      "Epoch: 160, Train Acc: 56.078125, Val Acc: 54.913333\n",
      "Epoch: 161, Train Acc: 56.103618, Val Acc: 54.953333\n",
      "Epoch: 162, Train Acc: 56.092928, Val Acc: 54.926667\n",
      "Epoch: 163, Train Acc: 56.098684, Val Acc: 54.933333\n",
      "Epoch: 164, Train Acc: 56.100329, Val Acc: 54.913333\n",
      "Epoch: 165, Train Acc: 56.115132, Val Acc: 54.933333\n",
      "Epoch: 166, Train Acc: 56.124178, Val Acc: 54.946667\n",
      "Epoch: 167, Train Acc: 56.120066, Val Acc: 54.953333\n",
      "Epoch: 168, Train Acc: 56.106086, Val Acc: 54.926667\n",
      "Epoch: 169, Train Acc: 56.125000, Val Acc: 54.906667\n",
      "Epoch: 170, Train Acc: 56.137336, Val Acc: 54.920000\n",
      "Epoch: 171, Train Acc: 56.143092, Val Acc: 54.960000\n",
      "Epoch: 172, Train Acc: 56.137336, Val Acc: 54.953333\n",
      "Epoch: 173, Train Acc: 56.138158, Val Acc: 54.906667\n",
      "Epoch: 174, Train Acc: 56.146382, Val Acc: 54.933333\n",
      "Epoch: 175, Train Acc: 56.164474, Val Acc: 54.953333\n",
      "Epoch: 176, Train Acc: 56.154605, Val Acc: 54.946667\n",
      "Epoch: 177, Train Acc: 56.166941, Val Acc: 54.953333\n",
      "Epoch: 178, Train Acc: 56.180921, Val Acc: 54.980000\n",
      "Epoch: 179, Train Acc: 56.161184, Val Acc: 54.973333\n",
      "Epoch: 180, Train Acc: 56.185855, Val Acc: 55.006667\n",
      "Epoch: 181, Train Acc: 56.159539, Val Acc: 54.906667\n",
      "Epoch: 182, Train Acc: 56.172697, Val Acc: 54.946667\n",
      "Epoch: 183, Train Acc: 56.198191, Val Acc: 54.973333\n",
      "Epoch: 184, Train Acc: 56.189967, Val Acc: 54.980000\n",
      "Epoch: 185, Train Acc: 56.193257, Val Acc: 54.946667\n",
      "Epoch: 186, Train Acc: 56.217105, Val Acc: 55.060000\n",
      "Epoch: 187, Train Acc: 56.205592, Val Acc: 55.026667\n",
      "Epoch: 188, Train Acc: 56.196546, Val Acc: 54.960000\n",
      "Epoch: 189, Train Acc: 56.200658, Val Acc: 54.986667\n",
      "Epoch: 190, Train Acc: 56.207237, Val Acc: 54.946667\n",
      "Epoch: 191, Train Acc: 56.257401, Val Acc: 55.040000\n",
      "Epoch: 192, Train Acc: 56.244243, Val Acc: 55.000000\n",
      "Epoch: 193, Train Acc: 56.238487, Val Acc: 55.000000\n",
      "Epoch: 194, Train Acc: 56.248355, Val Acc: 55.033333\n",
      "Epoch: 195, Train Acc: 56.252467, Val Acc: 55.006667\n",
      "Epoch: 196, Train Acc: 56.246711, Val Acc: 55.006667\n",
      "Epoch: 197, Train Acc: 56.254112, Val Acc: 55.020000\n",
      "Epoch: 198, Train Acc: 56.274671, Val Acc: 55.000000\n",
      "Epoch: 199, Train Acc: 56.275493, Val Acc: 54.973333\n",
      "Epoch: 200, Train Acc: 56.265625, Val Acc: 54.973333\n",
      "Epoch: 201, Train Acc: 56.259868, Val Acc: 54.960000\n",
      "Epoch: 202, Train Acc: 56.273849, Val Acc: 54.946667\n",
      "Epoch: 203, Train Acc: 56.295230, Val Acc: 54.980000\n",
      "Epoch: 204, Train Acc: 56.266447, Val Acc: 54.986667\n",
      "Epoch: 205, Train Acc: 56.287829, Val Acc: 54.980000\n",
      "Epoch: 206, Train Acc: 56.262336, Val Acc: 54.960000\n",
      "Epoch: 207, Train Acc: 56.296053, Val Acc: 55.026667\n",
      "Epoch: 208, Train Acc: 56.298520, Val Acc: 54.993333\n",
      "Epoch: 209, Train Acc: 56.313322, Val Acc: 55.086667\n",
      "Epoch: 210, Train Acc: 56.307566, Val Acc: 55.060000\n",
      "Epoch: 211, Train Acc: 56.301809, Val Acc: 55.000000\n",
      "Epoch: 212, Train Acc: 56.326480, Val Acc: 55.053333\n",
      "Epoch: 213, Train Acc: 56.347039, Val Acc: 55.040000\n",
      "Epoch: 214, Train Acc: 56.351974, Val Acc: 55.066667\n",
      "Epoch: 215, Train Acc: 56.327303, Val Acc: 55.033333\n",
      "Epoch: 216, Train Acc: 56.339638, Val Acc: 55.040000\n",
      "Epoch: 217, Train Acc: 56.356086, Val Acc: 55.020000\n",
      "Epoch: 218, Train Acc: 56.328947, Val Acc: 54.973333\n",
      "Epoch: 219, Train Acc: 56.366776, Val Acc: 55.046667\n",
      "Epoch: 220, Train Acc: 56.363487, Val Acc: 55.093333\n",
      "Epoch: 221, Train Acc: 56.356086, Val Acc: 55.046667\n",
      "Epoch: 222, Train Acc: 56.374178, Val Acc: 55.093333\n",
      "Epoch: 223, Train Acc: 56.386513, Val Acc: 55.113333\n",
      "Epoch: 224, Train Acc: 56.373355, Val Acc: 55.040000\n",
      "Epoch: 225, Train Acc: 56.372533, Val Acc: 55.000000\n",
      "Epoch: 226, Train Acc: 56.379112, Val Acc: 55.046667\n",
      "Epoch: 227, Train Acc: 56.377467, Val Acc: 55.080000\n",
      "Epoch: 228, Train Acc: 56.378289, Val Acc: 55.046667\n",
      "Epoch: 229, Train Acc: 56.381579, Val Acc: 55.053333\n",
      "Epoch: 230, Train Acc: 56.374178, Val Acc: 55.026667\n",
      "Epoch: 231, Train Acc: 56.379112, Val Acc: 55.040000\n",
      "Epoch: 232, Train Acc: 56.387336, Val Acc: 55.113333\n",
      "Epoch: 233, Train Acc: 56.386513, Val Acc: 55.080000\n",
      "Epoch: 234, Train Acc: 56.385691, Val Acc: 55.046667\n",
      "Epoch: 235, Train Acc: 56.382401, Val Acc: 55.073333\n",
      "Epoch: 236, Train Acc: 56.393092, Val Acc: 55.020000\n",
      "Epoch: 237, Train Acc: 56.413651, Val Acc: 55.100000\n",
      "Epoch: 238, Train Acc: 56.421053, Val Acc: 55.153333\n",
      "Epoch: 239, Train Acc: 56.425164, Val Acc: 55.106667\n",
      "Epoch: 240, Train Acc: 56.406250, Val Acc: 55.080000\n",
      "Epoch: 241, Train Acc: 56.421875, Val Acc: 55.086667\n",
      "Epoch: 242, Train Acc: 56.435033, Val Acc: 55.086667\n",
      "Epoch: 243, Train Acc: 56.428454, Val Acc: 55.053333\n",
      "Epoch: 244, Train Acc: 56.441612, Val Acc: 55.100000\n",
      "Epoch: 245, Train Acc: 56.444079, Val Acc: 55.100000\n",
      "Epoch: 246, Train Acc: 56.445724, Val Acc: 55.100000\n",
      "Epoch: 247, Train Acc: 56.455592, Val Acc: 55.106667\n",
      "Epoch: 248, Train Acc: 56.442434, Val Acc: 55.086667\n",
      "Epoch: 249, Train Acc: 56.454770, Val Acc: 55.113333\n",
      "Epoch: 250, Train Acc: 56.478618, Val Acc: 55.146667\n",
      "Epoch: 251, Train Acc: 56.475329, Val Acc: 55.146667\n",
      "Epoch: 252, Train Acc: 56.455592, Val Acc: 55.120000\n",
      "Epoch: 253, Train Acc: 56.458059, Val Acc: 55.100000\n",
      "Epoch: 254, Train Acc: 56.468750, Val Acc: 55.093333\n",
      "Epoch: 255, Train Acc: 56.466283, Val Acc: 55.113333\n",
      "Epoch: 256, Train Acc: 56.485197, Val Acc: 55.100000\n",
      "Epoch: 257, Train Acc: 56.483553, Val Acc: 55.120000\n",
      "Epoch: 258, Train Acc: 56.484375, Val Acc: 55.120000\n",
      "Epoch: 259, Train Acc: 56.518092, Val Acc: 55.146667\n",
      "Epoch: 260, Train Acc: 56.495888, Val Acc: 55.133333\n",
      "Epoch: 261, Train Acc: 56.499178, Val Acc: 55.120000\n",
      "Epoch: 262, Train Acc: 56.506579, Val Acc: 55.093333\n",
      "Epoch: 263, Train Acc: 56.538651, Val Acc: 55.146667\n",
      "Epoch: 264, Train Acc: 56.527138, Val Acc: 55.106667\n",
      "Epoch: 265, Train Acc: 56.521382, Val Acc: 55.120000\n",
      "Epoch: 266, Train Acc: 56.506579, Val Acc: 55.080000\n",
      "Epoch: 267, Train Acc: 56.532072, Val Acc: 55.106667\n",
      "Epoch: 268, Train Acc: 56.525493, Val Acc: 55.120000\n",
      "Epoch: 269, Train Acc: 56.559211, Val Acc: 55.153333\n",
      "Epoch: 270, Train Acc: 56.519737, Val Acc: 55.066667\n",
      "Epoch: 271, Train Acc: 56.553454, Val Acc: 55.106667\n",
      "Epoch: 272, Train Acc: 56.555921, Val Acc: 55.126667\n",
      "Epoch: 273, Train Acc: 56.559211, Val Acc: 55.066667\n",
      "Epoch: 274, Train Acc: 56.549342, Val Acc: 55.093333\n",
      "Epoch: 275, Train Acc: 56.554276, Val Acc: 55.040000\n",
      "Epoch: 276, Train Acc: 56.583059, Val Acc: 55.100000\n",
      "Epoch: 277, Train Acc: 56.564967, Val Acc: 55.060000\n",
      "Epoch: 278, Train Acc: 56.567434, Val Acc: 55.073333\n",
      "Epoch: 279, Train Acc: 56.578947, Val Acc: 55.100000\n",
      "Epoch: 280, Train Acc: 56.594572, Val Acc: 55.140000\n",
      "Epoch: 281, Train Acc: 56.567434, Val Acc: 55.080000\n",
      "Epoch: 282, Train Acc: 56.562500, Val Acc: 55.066667\n",
      "Epoch: 283, Train Acc: 56.622533, Val Acc: 55.146667\n",
      "Epoch: 284, Train Acc: 56.602796, Val Acc: 55.080000\n",
      "Epoch: 285, Train Acc: 56.604441, Val Acc: 55.046667\n",
      "Epoch: 286, Train Acc: 56.599507, Val Acc: 55.046667\n",
      "Epoch: 287, Train Acc: 56.603618, Val Acc: 55.086667\n",
      "Epoch: 288, Train Acc: 56.617599, Val Acc: 55.100000\n",
      "Epoch: 289, Train Acc: 56.631579, Val Acc: 55.046667\n",
      "Epoch: 290, Train Acc: 56.625000, Val Acc: 55.000000\n",
      "Epoch: 291, Train Acc: 56.638158, Val Acc: 55.053333\n",
      "Epoch: 292, Train Acc: 56.635691, Val Acc: 55.040000\n",
      "Epoch: 293, Train Acc: 56.634046, Val Acc: 55.013333\n",
      "Epoch: 294, Train Acc: 56.633224, Val Acc: 55.073333\n",
      "Epoch: 295, Train Acc: 56.633224, Val Acc: 55.013333\n",
      "Epoch: 296, Train Acc: 56.614309, Val Acc: 54.973333\n",
      "Epoch: 297, Train Acc: 56.633224, Val Acc: 55.000000\n",
      "Epoch: 298, Train Acc: 56.615954, Val Acc: 55.026667\n",
      "Epoch: 299, Train Acc: 56.647204, Val Acc: 55.046667\n",
      "Epoch: 300, Train Acc: 56.639803, Val Acc: 55.060000\n",
      "Epoch: 301, Train Acc: 56.648849, Val Acc: 55.020000\n",
      "Epoch: 302, Train Acc: 56.657072, Val Acc: 55.073333\n",
      "Epoch: 303, Train Acc: 56.675164, Val Acc: 55.046667\n",
      "Epoch: 304, Train Acc: 56.666941, Val Acc: 55.033333\n",
      "Epoch: 305, Train Acc: 56.657895, Val Acc: 55.066667\n",
      "Epoch: 306, Train Acc: 56.651316, Val Acc: 55.020000\n",
      "Epoch: 307, Train Acc: 56.666941, Val Acc: 55.046667\n",
      "Epoch: 308, Train Acc: 56.663651, Val Acc: 54.966667\n",
      "Epoch: 309, Train Acc: 56.671875, Val Acc: 55.026667\n",
      "Epoch: 310, Train Acc: 56.653783, Val Acc: 54.980000\n",
      "Epoch: 311, Train Acc: 56.675987, Val Acc: 55.013333\n",
      "Epoch: 312, Train Acc: 56.652138, Val Acc: 54.973333\n",
      "Epoch: 313, Train Acc: 56.689145, Val Acc: 55.033333\n",
      "Epoch: 314, Train Acc: 56.657895, Val Acc: 54.960000\n",
      "Epoch: 315, Train Acc: 56.689145, Val Acc: 55.013333\n",
      "Epoch: 316, Train Acc: 56.669408, Val Acc: 54.993333\n",
      "Epoch: 317, Train Acc: 56.691612, Val Acc: 55.040000\n",
      "Epoch: 318, Train Acc: 56.723684, Val Acc: 55.013333\n",
      "Epoch: 319, Train Acc: 56.703125, Val Acc: 55.053333\n",
      "Epoch: 320, Train Acc: 56.708882, Val Acc: 55.066667\n",
      "Epoch: 321, Train Acc: 56.733553, Val Acc: 55.060000\n",
      "Epoch: 322, Train Acc: 56.701480, Val Acc: 55.046667\n",
      "Epoch: 323, Train Acc: 56.717928, Val Acc: 55.046667\n",
      "Epoch: 324, Train Acc: 56.726974, Val Acc: 55.086667\n",
      "Epoch: 325, Train Acc: 56.721217, Val Acc: 55.026667\n",
      "Epoch: 326, Train Acc: 56.759868, Val Acc: 55.073333\n",
      "Epoch: 327, Train Acc: 56.759868, Val Acc: 55.033333\n",
      "Epoch: 328, Train Acc: 56.722039, Val Acc: 54.986667\n",
      "Epoch: 329, Train Acc: 56.751645, Val Acc: 55.060000\n",
      "Epoch: 330, Train Acc: 56.730263, Val Acc: 55.020000\n",
      "Epoch: 331, Train Acc: 56.750822, Val Acc: 55.026667\n",
      "Epoch: 332, Train Acc: 56.768914, Val Acc: 55.046667\n",
      "Epoch: 333, Train Acc: 56.724507, Val Acc: 54.973333\n",
      "Epoch: 334, Train Acc: 56.750822, Val Acc: 55.046667\n",
      "Epoch: 335, Train Acc: 56.776316, Val Acc: 55.066667\n",
      "Epoch: 336, Train Acc: 56.753289, Val Acc: 55.046667\n",
      "Epoch: 337, Train Acc: 56.793586, Val Acc: 55.073333\n",
      "Epoch: 338, Train Acc: 56.774671, Val Acc: 55.066667\n",
      "Epoch: 339, Train Acc: 56.757401, Val Acc: 55.040000\n",
      "Epoch: 340, Train Acc: 56.808388, Val Acc: 55.060000\n",
      "Epoch: 341, Train Acc: 56.774671, Val Acc: 55.006667\n",
      "Epoch: 342, Train Acc: 56.777961, Val Acc: 55.046667\n",
      "Epoch: 343, Train Acc: 56.754934, Val Acc: 55.040000\n",
      "Epoch: 344, Train Acc: 56.779605, Val Acc: 55.006667\n",
      "Epoch: 345, Train Acc: 56.789474, Val Acc: 55.020000\n",
      "Epoch: 346, Train Acc: 56.812500, Val Acc: 55.040000\n",
      "Epoch: 347, Train Acc: 56.805921, Val Acc: 55.020000\n",
      "Epoch: 348, Train Acc: 56.810855, Val Acc: 55.026667\n",
      "Epoch: 349, Train Acc: 56.796053, Val Acc: 55.013333\n",
      "Epoch: 350, Train Acc: 56.812500, Val Acc: 55.080000\n"
     ]
    },
    {
     "ename": "KeyboardInterrupt",
     "evalue": "",
     "output_type": "error",
     "traceback": [
      "\u001B[1;31m---------------------------------------------------------------------------\u001B[0m",
      "\u001B[1;31mKeyboardInterrupt\u001B[0m                         Traceback (most recent call last)",
      "Cell \u001B[1;32mIn[148], line 3\u001B[0m\n\u001B[0;32m      1\u001B[0m \u001B[38;5;28;01mfor\u001B[39;00m epoch \u001B[38;5;129;01min\u001B[39;00m \u001B[38;5;28mrange\u001B[39m(\u001B[38;5;241m1\u001B[39m, \u001B[38;5;241m10001\u001B[39m):\n\u001B[0;32m      2\u001B[0m     train()\n\u001B[1;32m----> 3\u001B[0m     train_acc \u001B[38;5;241m=\u001B[39m \u001B[43mtest\u001B[49m\u001B[43m(\u001B[49m\u001B[43mtrain_loader\u001B[49m\u001B[43m)\u001B[49m\n\u001B[0;32m      4\u001B[0m     val_acc \u001B[38;5;241m=\u001B[39m test(valid_loader)\n\u001B[0;32m      5\u001B[0m     \u001B[38;5;28mprint\u001B[39m(\u001B[38;5;124mf\u001B[39m\u001B[38;5;124m'\u001B[39m\u001B[38;5;124mEpoch: \u001B[39m\u001B[38;5;132;01m{\u001B[39;00mepoch\u001B[38;5;132;01m:\u001B[39;00m\u001B[38;5;124m03d\u001B[39m\u001B[38;5;132;01m}\u001B[39;00m\u001B[38;5;124m, Train Acc: \u001B[39m\u001B[38;5;132;01m{\u001B[39;00mtrain_acc\u001B[38;5;132;01m:\u001B[39;00m\u001B[38;5;124m.6f\u001B[39m\u001B[38;5;132;01m}\u001B[39;00m\u001B[38;5;124m, Val Acc: \u001B[39m\u001B[38;5;132;01m{\u001B[39;00mval_acc\u001B[38;5;132;01m:\u001B[39;00m\u001B[38;5;124m.6f\u001B[39m\u001B[38;5;132;01m}\u001B[39;00m\u001B[38;5;124m'\u001B[39m)\n",
      "Cell \u001B[1;32mIn[147], line 4\u001B[0m, in \u001B[0;36mtest\u001B[1;34m(loader)\u001B[0m\n\u001B[0;32m      2\u001B[0m model\u001B[38;5;241m.\u001B[39meval()\n\u001B[0;32m      3\u001B[0m correct \u001B[38;5;241m=\u001B[39m \u001B[38;5;241m0\u001B[39m\n\u001B[1;32m----> 4\u001B[0m \u001B[43m\u001B[49m\u001B[38;5;28;43;01mfor\u001B[39;49;00m\u001B[43m \u001B[49m\u001B[43mdata\u001B[49m\u001B[43m \u001B[49m\u001B[38;5;129;43;01min\u001B[39;49;00m\u001B[43m \u001B[49m\u001B[43mloader\u001B[49m\u001B[43m:\u001B[49m\n\u001B[0;32m      5\u001B[0m \u001B[43m    \u001B[49m\u001B[43mdata\u001B[49m\u001B[43m \u001B[49m\u001B[38;5;241;43m=\u001B[39;49m\u001B[43m \u001B[49m\u001B[43mdata\u001B[49m\u001B[38;5;241;43m.\u001B[39;49m\u001B[43mto\u001B[49m\u001B[43m(\u001B[49m\u001B[43mdevice\u001B[49m\u001B[43m)\u001B[49m\n\u001B[0;32m      6\u001B[0m \u001B[43m    \u001B[49m\u001B[43mout\u001B[49m\u001B[43m \u001B[49m\u001B[38;5;241;43m=\u001B[39;49m\u001B[43m \u001B[49m\u001B[43mmodel\u001B[49m\u001B[43m(\u001B[49m\u001B[43mdata\u001B[49m\u001B[43m)\u001B[49m\n",
      "File \u001B[1;32mD:\\Projects\\ML\\GCN\\Framework\\cuda_tree_model\\.venv\\Lib\\site-packages\\torch\\utils\\data\\dataloader.py:631\u001B[0m, in \u001B[0;36m_BaseDataLoaderIter.__next__\u001B[1;34m(self)\u001B[0m\n\u001B[0;32m    628\u001B[0m \u001B[38;5;28;01mif\u001B[39;00m \u001B[38;5;28mself\u001B[39m\u001B[38;5;241m.\u001B[39m_sampler_iter \u001B[38;5;129;01mis\u001B[39;00m \u001B[38;5;28;01mNone\u001B[39;00m:\n\u001B[0;32m    629\u001B[0m     \u001B[38;5;66;03m# TODO(https://github.com/pytorch/pytorch/issues/76750)\u001B[39;00m\n\u001B[0;32m    630\u001B[0m     \u001B[38;5;28mself\u001B[39m\u001B[38;5;241m.\u001B[39m_reset()  \u001B[38;5;66;03m# type: ignore[call-arg]\u001B[39;00m\n\u001B[1;32m--> 631\u001B[0m data \u001B[38;5;241m=\u001B[39m \u001B[38;5;28;43mself\u001B[39;49m\u001B[38;5;241;43m.\u001B[39;49m\u001B[43m_next_data\u001B[49m\u001B[43m(\u001B[49m\u001B[43m)\u001B[49m\n\u001B[0;32m    632\u001B[0m \u001B[38;5;28mself\u001B[39m\u001B[38;5;241m.\u001B[39m_num_yielded \u001B[38;5;241m+\u001B[39m\u001B[38;5;241m=\u001B[39m \u001B[38;5;241m1\u001B[39m\n\u001B[0;32m    633\u001B[0m \u001B[38;5;28;01mif\u001B[39;00m \u001B[38;5;28mself\u001B[39m\u001B[38;5;241m.\u001B[39m_dataset_kind \u001B[38;5;241m==\u001B[39m _DatasetKind\u001B[38;5;241m.\u001B[39mIterable \u001B[38;5;129;01mand\u001B[39;00m \\\n\u001B[0;32m    634\u001B[0m         \u001B[38;5;28mself\u001B[39m\u001B[38;5;241m.\u001B[39m_IterableDataset_len_called \u001B[38;5;129;01mis\u001B[39;00m \u001B[38;5;129;01mnot\u001B[39;00m \u001B[38;5;28;01mNone\u001B[39;00m \u001B[38;5;129;01mand\u001B[39;00m \\\n\u001B[0;32m    635\u001B[0m         \u001B[38;5;28mself\u001B[39m\u001B[38;5;241m.\u001B[39m_num_yielded \u001B[38;5;241m>\u001B[39m \u001B[38;5;28mself\u001B[39m\u001B[38;5;241m.\u001B[39m_IterableDataset_len_called:\n",
      "File \u001B[1;32mD:\\Projects\\ML\\GCN\\Framework\\cuda_tree_model\\.venv\\Lib\\site-packages\\torch\\utils\\data\\dataloader.py:675\u001B[0m, in \u001B[0;36m_SingleProcessDataLoaderIter._next_data\u001B[1;34m(self)\u001B[0m\n\u001B[0;32m    673\u001B[0m \u001B[38;5;28;01mdef\u001B[39;00m \u001B[38;5;21m_next_data\u001B[39m(\u001B[38;5;28mself\u001B[39m):\n\u001B[0;32m    674\u001B[0m     index \u001B[38;5;241m=\u001B[39m \u001B[38;5;28mself\u001B[39m\u001B[38;5;241m.\u001B[39m_next_index()  \u001B[38;5;66;03m# may raise StopIteration\u001B[39;00m\n\u001B[1;32m--> 675\u001B[0m     data \u001B[38;5;241m=\u001B[39m \u001B[38;5;28;43mself\u001B[39;49m\u001B[38;5;241;43m.\u001B[39;49m\u001B[43m_dataset_fetcher\u001B[49m\u001B[38;5;241;43m.\u001B[39;49m\u001B[43mfetch\u001B[49m\u001B[43m(\u001B[49m\u001B[43mindex\u001B[49m\u001B[43m)\u001B[49m  \u001B[38;5;66;03m# may raise StopIteration\u001B[39;00m\n\u001B[0;32m    676\u001B[0m     \u001B[38;5;28;01mif\u001B[39;00m \u001B[38;5;28mself\u001B[39m\u001B[38;5;241m.\u001B[39m_pin_memory:\n\u001B[0;32m    677\u001B[0m         data \u001B[38;5;241m=\u001B[39m _utils\u001B[38;5;241m.\u001B[39mpin_memory\u001B[38;5;241m.\u001B[39mpin_memory(data, \u001B[38;5;28mself\u001B[39m\u001B[38;5;241m.\u001B[39m_pin_memory_device)\n",
      "File \u001B[1;32mD:\\Projects\\ML\\GCN\\Framework\\cuda_tree_model\\.venv\\Lib\\site-packages\\torch\\utils\\data\\_utils\\fetch.py:54\u001B[0m, in \u001B[0;36m_MapDatasetFetcher.fetch\u001B[1;34m(self, possibly_batched_index)\u001B[0m\n\u001B[0;32m     52\u001B[0m \u001B[38;5;28;01melse\u001B[39;00m:\n\u001B[0;32m     53\u001B[0m     data \u001B[38;5;241m=\u001B[39m \u001B[38;5;28mself\u001B[39m\u001B[38;5;241m.\u001B[39mdataset[possibly_batched_index]\n\u001B[1;32m---> 54\u001B[0m \u001B[38;5;28;01mreturn\u001B[39;00m \u001B[38;5;28;43mself\u001B[39;49m\u001B[38;5;241;43m.\u001B[39;49m\u001B[43mcollate_fn\u001B[49m\u001B[43m(\u001B[49m\u001B[43mdata\u001B[49m\u001B[43m)\u001B[49m\n",
      "File \u001B[1;32mD:\\Projects\\ML\\GCN\\Framework\\cuda_tree_model\\.venv\\Lib\\site-packages\\torch_geometric\\loader\\dataloader.py:27\u001B[0m, in \u001B[0;36mCollater.__call__\u001B[1;34m(self, batch)\u001B[0m\n\u001B[0;32m     25\u001B[0m elem \u001B[38;5;241m=\u001B[39m batch[\u001B[38;5;241m0\u001B[39m]\n\u001B[0;32m     26\u001B[0m \u001B[38;5;28;01mif\u001B[39;00m \u001B[38;5;28misinstance\u001B[39m(elem, BaseData):\n\u001B[1;32m---> 27\u001B[0m     \u001B[38;5;28;01mreturn\u001B[39;00m \u001B[43mBatch\u001B[49m\u001B[38;5;241;43m.\u001B[39;49m\u001B[43mfrom_data_list\u001B[49m\u001B[43m(\u001B[49m\n\u001B[0;32m     28\u001B[0m \u001B[43m        \u001B[49m\u001B[43mbatch\u001B[49m\u001B[43m,\u001B[49m\n\u001B[0;32m     29\u001B[0m \u001B[43m        \u001B[49m\u001B[43mfollow_batch\u001B[49m\u001B[38;5;241;43m=\u001B[39;49m\u001B[38;5;28;43mself\u001B[39;49m\u001B[38;5;241;43m.\u001B[39;49m\u001B[43mfollow_batch\u001B[49m\u001B[43m,\u001B[49m\n\u001B[0;32m     30\u001B[0m \u001B[43m        \u001B[49m\u001B[43mexclude_keys\u001B[49m\u001B[38;5;241;43m=\u001B[39;49m\u001B[38;5;28;43mself\u001B[39;49m\u001B[38;5;241;43m.\u001B[39;49m\u001B[43mexclude_keys\u001B[49m\u001B[43m,\u001B[49m\n\u001B[0;32m     31\u001B[0m \u001B[43m    \u001B[49m\u001B[43m)\u001B[49m\n\u001B[0;32m     32\u001B[0m \u001B[38;5;28;01melif\u001B[39;00m \u001B[38;5;28misinstance\u001B[39m(elem, torch\u001B[38;5;241m.\u001B[39mTensor):\n\u001B[0;32m     33\u001B[0m     \u001B[38;5;28;01mreturn\u001B[39;00m default_collate(batch)\n",
      "File \u001B[1;32mD:\\Projects\\ML\\GCN\\Framework\\cuda_tree_model\\.venv\\Lib\\site-packages\\torch_geometric\\data\\batch.py:97\u001B[0m, in \u001B[0;36mBatch.from_data_list\u001B[1;34m(cls, data_list, follow_batch, exclude_keys)\u001B[0m\n\u001B[0;32m     82\u001B[0m \u001B[38;5;129m@classmethod\u001B[39m\n\u001B[0;32m     83\u001B[0m \u001B[38;5;28;01mdef\u001B[39;00m \u001B[38;5;21mfrom_data_list\u001B[39m(\n\u001B[0;32m     84\u001B[0m     \u001B[38;5;28mcls\u001B[39m,\n\u001B[1;32m   (...)\u001B[0m\n\u001B[0;32m     87\u001B[0m     exclude_keys: Optional[List[\u001B[38;5;28mstr\u001B[39m]] \u001B[38;5;241m=\u001B[39m \u001B[38;5;28;01mNone\u001B[39;00m,\n\u001B[0;32m     88\u001B[0m ) \u001B[38;5;241m-\u001B[39m\u001B[38;5;241m>\u001B[39m Self:\n\u001B[0;32m     89\u001B[0m \u001B[38;5;250m    \u001B[39m\u001B[38;5;124mr\u001B[39m\u001B[38;5;124;03m\"\"\"Constructs a :class:`~torch_geometric.data.Batch` object from a\u001B[39;00m\n\u001B[0;32m     90\u001B[0m \u001B[38;5;124;03m    list of :class:`~torch_geometric.data.Data` or\u001B[39;00m\n\u001B[0;32m     91\u001B[0m \u001B[38;5;124;03m    :class:`~torch_geometric.data.HeteroData` objects.\u001B[39;00m\n\u001B[1;32m   (...)\u001B[0m\n\u001B[0;32m     95\u001B[0m \u001B[38;5;124;03m    Will exclude any keys given in :obj:`exclude_keys`.\u001B[39;00m\n\u001B[0;32m     96\u001B[0m \u001B[38;5;124;03m    \"\"\"\u001B[39;00m\n\u001B[1;32m---> 97\u001B[0m     batch, slice_dict, inc_dict \u001B[38;5;241m=\u001B[39m \u001B[43mcollate\u001B[49m\u001B[43m(\u001B[49m\n\u001B[0;32m     98\u001B[0m \u001B[43m        \u001B[49m\u001B[38;5;28;43mcls\u001B[39;49m\u001B[43m,\u001B[49m\n\u001B[0;32m     99\u001B[0m \u001B[43m        \u001B[49m\u001B[43mdata_list\u001B[49m\u001B[38;5;241;43m=\u001B[39;49m\u001B[43mdata_list\u001B[49m\u001B[43m,\u001B[49m\n\u001B[0;32m    100\u001B[0m \u001B[43m        \u001B[49m\u001B[43mincrement\u001B[49m\u001B[38;5;241;43m=\u001B[39;49m\u001B[38;5;28;43;01mTrue\u001B[39;49;00m\u001B[43m,\u001B[49m\n\u001B[0;32m    101\u001B[0m \u001B[43m        \u001B[49m\u001B[43madd_batch\u001B[49m\u001B[38;5;241;43m=\u001B[39;49m\u001B[38;5;129;43;01mnot\u001B[39;49;00m\u001B[43m \u001B[49m\u001B[38;5;28;43misinstance\u001B[39;49m\u001B[43m(\u001B[49m\u001B[43mdata_list\u001B[49m\u001B[43m[\u001B[49m\u001B[38;5;241;43m0\u001B[39;49m\u001B[43m]\u001B[49m\u001B[43m,\u001B[49m\u001B[43m \u001B[49m\u001B[43mBatch\u001B[49m\u001B[43m)\u001B[49m\u001B[43m,\u001B[49m\n\u001B[0;32m    102\u001B[0m \u001B[43m        \u001B[49m\u001B[43mfollow_batch\u001B[49m\u001B[38;5;241;43m=\u001B[39;49m\u001B[43mfollow_batch\u001B[49m\u001B[43m,\u001B[49m\n\u001B[0;32m    103\u001B[0m \u001B[43m        \u001B[49m\u001B[43mexclude_keys\u001B[49m\u001B[38;5;241;43m=\u001B[39;49m\u001B[43mexclude_keys\u001B[49m\u001B[43m,\u001B[49m\n\u001B[0;32m    104\u001B[0m \u001B[43m    \u001B[49m\u001B[43m)\u001B[49m\n\u001B[0;32m    106\u001B[0m     batch\u001B[38;5;241m.\u001B[39m_num_graphs \u001B[38;5;241m=\u001B[39m \u001B[38;5;28mlen\u001B[39m(data_list)  \u001B[38;5;66;03m# type: ignore\u001B[39;00m\n\u001B[0;32m    107\u001B[0m     batch\u001B[38;5;241m.\u001B[39m_slice_dict \u001B[38;5;241m=\u001B[39m slice_dict  \u001B[38;5;66;03m# type: ignore\u001B[39;00m\n",
      "File \u001B[1;32mD:\\Projects\\ML\\GCN\\Framework\\cuda_tree_model\\.venv\\Lib\\site-packages\\torch_geometric\\data\\collate.py:109\u001B[0m, in \u001B[0;36mcollate\u001B[1;34m(cls, data_list, increment, add_batch, follow_batch, exclude_keys)\u001B[0m\n\u001B[0;32m    106\u001B[0m     \u001B[38;5;28;01mcontinue\u001B[39;00m\n\u001B[0;32m    108\u001B[0m \u001B[38;5;66;03m# Collate attributes into a unified representation:\u001B[39;00m\n\u001B[1;32m--> 109\u001B[0m value, slices, incs \u001B[38;5;241m=\u001B[39m \u001B[43m_collate\u001B[49m\u001B[43m(\u001B[49m\u001B[43mattr\u001B[49m\u001B[43m,\u001B[49m\u001B[43m \u001B[49m\u001B[43mvalues\u001B[49m\u001B[43m,\u001B[49m\u001B[43m \u001B[49m\u001B[43mdata_list\u001B[49m\u001B[43m,\u001B[49m\u001B[43m \u001B[49m\u001B[43mstores\u001B[49m\u001B[43m,\u001B[49m\n\u001B[0;32m    110\u001B[0m \u001B[43m                               \u001B[49m\u001B[43mincrement\u001B[49m\u001B[43m)\u001B[49m\n\u001B[0;32m    112\u001B[0m \u001B[38;5;66;03m# If parts of the data are already on GPU, make sure that auxiliary\u001B[39;00m\n\u001B[0;32m    113\u001B[0m \u001B[38;5;66;03m# data like `batch` or `ptr` are also created on GPU:\u001B[39;00m\n\u001B[0;32m    114\u001B[0m \u001B[38;5;28;01mif\u001B[39;00m \u001B[38;5;28misinstance\u001B[39m(value, Tensor) \u001B[38;5;129;01mand\u001B[39;00m value\u001B[38;5;241m.\u001B[39mis_cuda:\n",
      "File \u001B[1;32mD:\\Projects\\ML\\GCN\\Framework\\cuda_tree_model\\.venv\\Lib\\site-packages\\torch_geometric\\data\\collate.py:204\u001B[0m, in \u001B[0;36m_collate\u001B[1;34m(key, values, data_list, stores, increment)\u001B[0m\n\u001B[0;32m    201\u001B[0m         shape[cat_dim] \u001B[38;5;241m=\u001B[39m \u001B[38;5;28mint\u001B[39m(slices[\u001B[38;5;241m-\u001B[39m\u001B[38;5;241m1\u001B[39m])\n\u001B[0;32m    202\u001B[0m     out \u001B[38;5;241m=\u001B[39m elem\u001B[38;5;241m.\u001B[39mnew(storage)\u001B[38;5;241m.\u001B[39mresize_(\u001B[38;5;241m*\u001B[39mshape)\n\u001B[1;32m--> 204\u001B[0m value \u001B[38;5;241m=\u001B[39m \u001B[43mtorch\u001B[49m\u001B[38;5;241;43m.\u001B[39;49m\u001B[43mcat\u001B[49m\u001B[43m(\u001B[49m\u001B[43mvalues\u001B[49m\u001B[43m,\u001B[49m\u001B[43m \u001B[49m\u001B[43mdim\u001B[49m\u001B[38;5;241;43m=\u001B[39;49m\u001B[43mcat_dim\u001B[49m\u001B[43m \u001B[49m\u001B[38;5;129;43;01mor\u001B[39;49;00m\u001B[43m \u001B[49m\u001B[38;5;241;43m0\u001B[39;49m\u001B[43m,\u001B[49m\u001B[43m \u001B[49m\u001B[43mout\u001B[49m\u001B[38;5;241;43m=\u001B[39;49m\u001B[43mout\u001B[49m\u001B[43m)\u001B[49m\n\u001B[0;32m    206\u001B[0m \u001B[38;5;28;01mif\u001B[39;00m increment \u001B[38;5;129;01mand\u001B[39;00m \u001B[38;5;28misinstance\u001B[39m(value, EdgeIndex) \u001B[38;5;129;01mand\u001B[39;00m values[\u001B[38;5;241m0\u001B[39m]\u001B[38;5;241m.\u001B[39mis_sorted:\n\u001B[0;32m    207\u001B[0m     \u001B[38;5;66;03m# Check whether the whole `EdgeIndex` is sorted by row:\u001B[39;00m\n\u001B[0;32m    208\u001B[0m     \u001B[38;5;28;01mif\u001B[39;00m values[\u001B[38;5;241m0\u001B[39m]\u001B[38;5;241m.\u001B[39mis_sorted_by_row \u001B[38;5;129;01mand\u001B[39;00m (value[\u001B[38;5;241m0\u001B[39m]\u001B[38;5;241m.\u001B[39mdiff() \u001B[38;5;241m>\u001B[39m\u001B[38;5;241m=\u001B[39m \u001B[38;5;241m0\u001B[39m)\u001B[38;5;241m.\u001B[39mall():\n",
      "\u001B[1;31mKeyboardInterrupt\u001B[0m: "
     ]
    }
   ],
   "execution_count": 148
  },
  {
   "metadata": {
    "ExecuteTime": {
     "end_time": "2024-06-05T21:57:57.868044Z",
     "start_time": "2024-06-05T21:57:57.868044Z"
    }
   },
   "cell_type": "code",
   "source": "",
   "id": "b930a6b7d31ebb6f",
   "outputs": [],
   "execution_count": null
  }
 ],
 "metadata": {
  "kernelspec": {
   "display_name": "Python 3",
   "language": "python",
   "name": "python3"
  },
  "language_info": {
   "codemirror_mode": {
    "name": "ipython",
    "version": 2
   },
   "file_extension": ".py",
   "mimetype": "text/x-python",
   "name": "python",
   "nbconvert_exporter": "python",
   "pygments_lexer": "ipython2",
   "version": "2.7.6"
  }
 },
 "nbformat": 4,
 "nbformat_minor": 5
}
