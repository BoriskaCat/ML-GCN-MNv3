{
 "cells": [
  {
   "cell_type": "code",
   "id": "c9e972f454f1bd25",
   "metadata": {
    "collapsed": true,
    "ExecuteTime": {
     "end_time": "2024-06-08T21:01:24.108906Z",
     "start_time": "2024-06-08T21:01:24.104868Z"
    }
   },
   "source": [
    "import os\n",
    "import cv2\n",
    "import torch\n",
    "import torch.nn as nn\n",
    "import torchvision.transforms as T\n",
    "from torchvision.models.mobilenetv3 import mobilenet_v3_small\n",
    "from PIL import Image\n",
    "import numpy as np\n",
    "import math\n",
    "from sklearn.metrics import precision_recall_fscore_support\n",
    "import torch.nn.functional as F\n",
    "from torch_geometric.data import Data\n",
    "from torch_geometric.nn import GCNConv"
   ],
   "outputs": [],
   "execution_count": 59
  },
  {
   "metadata": {
    "ExecuteTime": {
     "end_time": "2024-06-08T21:01:24.123508Z",
     "start_time": "2024-06-08T21:01:24.119932Z"
    }
   },
   "cell_type": "code",
   "source": [
    "# Load MobileNetV3 model\n",
    "device = torch.device(\"cuda\" if torch.cuda.is_available() else \"cpu\")"
   ],
   "id": "1559892b93a30687",
   "outputs": [],
   "execution_count": 60
  },
  {
   "metadata": {
    "ExecuteTime": {
     "end_time": "2024-06-08T21:01:24.403914Z",
     "start_time": "2024-06-08T21:01:24.124517Z"
    }
   },
   "cell_type": "code",
   "source": [
    "mobilenet_model = mobilenet_v3_small()\n",
    "mobilenet_model.classifier[3] = nn.Linear(mobilenet_model.classifier[3].in_features, 4)\n",
    "mobilenet_checkpoint = torch.load(\"D:/Projects/ML/GCN/Framework/cuda_tree_model/model_weights_v2/mobilenetv3_epoch_5.pth\", map_location=device)\n",
    "mobilenet_model.load_state_dict(mobilenet_checkpoint)\n",
    "mobilenet_model = mobilenet_model.to(device)\n",
    "mobilenet_model.eval()"
   ],
   "id": "e2ca5faa222bd90a",
   "outputs": [
    {
     "data": {
      "text/plain": [
       "MobileNetV3(\n",
       "  (features): Sequential(\n",
       "    (0): Conv2dNormActivation(\n",
       "      (0): Conv2d(3, 16, kernel_size=(3, 3), stride=(2, 2), padding=(1, 1), bias=False)\n",
       "      (1): BatchNorm2d(16, eps=0.001, momentum=0.01, affine=True, track_running_stats=True)\n",
       "      (2): Hardswish()\n",
       "    )\n",
       "    (1): InvertedResidual(\n",
       "      (block): Sequential(\n",
       "        (0): Conv2dNormActivation(\n",
       "          (0): Conv2d(16, 16, kernel_size=(3, 3), stride=(2, 2), padding=(1, 1), groups=16, bias=False)\n",
       "          (1): BatchNorm2d(16, eps=0.001, momentum=0.01, affine=True, track_running_stats=True)\n",
       "          (2): ReLU(inplace=True)\n",
       "        )\n",
       "        (1): SqueezeExcitation(\n",
       "          (avgpool): AdaptiveAvgPool2d(output_size=1)\n",
       "          (fc1): Conv2d(16, 8, kernel_size=(1, 1), stride=(1, 1))\n",
       "          (fc2): Conv2d(8, 16, kernel_size=(1, 1), stride=(1, 1))\n",
       "          (activation): ReLU()\n",
       "          (scale_activation): Hardsigmoid()\n",
       "        )\n",
       "        (2): Conv2dNormActivation(\n",
       "          (0): Conv2d(16, 16, kernel_size=(1, 1), stride=(1, 1), bias=False)\n",
       "          (1): BatchNorm2d(16, eps=0.001, momentum=0.01, affine=True, track_running_stats=True)\n",
       "        )\n",
       "      )\n",
       "    )\n",
       "    (2): InvertedResidual(\n",
       "      (block): Sequential(\n",
       "        (0): Conv2dNormActivation(\n",
       "          (0): Conv2d(16, 72, kernel_size=(1, 1), stride=(1, 1), bias=False)\n",
       "          (1): BatchNorm2d(72, eps=0.001, momentum=0.01, affine=True, track_running_stats=True)\n",
       "          (2): ReLU(inplace=True)\n",
       "        )\n",
       "        (1): Conv2dNormActivation(\n",
       "          (0): Conv2d(72, 72, kernel_size=(3, 3), stride=(2, 2), padding=(1, 1), groups=72, bias=False)\n",
       "          (1): BatchNorm2d(72, eps=0.001, momentum=0.01, affine=True, track_running_stats=True)\n",
       "          (2): ReLU(inplace=True)\n",
       "        )\n",
       "        (2): Conv2dNormActivation(\n",
       "          (0): Conv2d(72, 24, kernel_size=(1, 1), stride=(1, 1), bias=False)\n",
       "          (1): BatchNorm2d(24, eps=0.001, momentum=0.01, affine=True, track_running_stats=True)\n",
       "        )\n",
       "      )\n",
       "    )\n",
       "    (3): InvertedResidual(\n",
       "      (block): Sequential(\n",
       "        (0): Conv2dNormActivation(\n",
       "          (0): Conv2d(24, 88, kernel_size=(1, 1), stride=(1, 1), bias=False)\n",
       "          (1): BatchNorm2d(88, eps=0.001, momentum=0.01, affine=True, track_running_stats=True)\n",
       "          (2): ReLU(inplace=True)\n",
       "        )\n",
       "        (1): Conv2dNormActivation(\n",
       "          (0): Conv2d(88, 88, kernel_size=(3, 3), stride=(1, 1), padding=(1, 1), groups=88, bias=False)\n",
       "          (1): BatchNorm2d(88, eps=0.001, momentum=0.01, affine=True, track_running_stats=True)\n",
       "          (2): ReLU(inplace=True)\n",
       "        )\n",
       "        (2): Conv2dNormActivation(\n",
       "          (0): Conv2d(88, 24, kernel_size=(1, 1), stride=(1, 1), bias=False)\n",
       "          (1): BatchNorm2d(24, eps=0.001, momentum=0.01, affine=True, track_running_stats=True)\n",
       "        )\n",
       "      )\n",
       "    )\n",
       "    (4): InvertedResidual(\n",
       "      (block): Sequential(\n",
       "        (0): Conv2dNormActivation(\n",
       "          (0): Conv2d(24, 96, kernel_size=(1, 1), stride=(1, 1), bias=False)\n",
       "          (1): BatchNorm2d(96, eps=0.001, momentum=0.01, affine=True, track_running_stats=True)\n",
       "          (2): Hardswish()\n",
       "        )\n",
       "        (1): Conv2dNormActivation(\n",
       "          (0): Conv2d(96, 96, kernel_size=(5, 5), stride=(2, 2), padding=(2, 2), groups=96, bias=False)\n",
       "          (1): BatchNorm2d(96, eps=0.001, momentum=0.01, affine=True, track_running_stats=True)\n",
       "          (2): Hardswish()\n",
       "        )\n",
       "        (2): SqueezeExcitation(\n",
       "          (avgpool): AdaptiveAvgPool2d(output_size=1)\n",
       "          (fc1): Conv2d(96, 24, kernel_size=(1, 1), stride=(1, 1))\n",
       "          (fc2): Conv2d(24, 96, kernel_size=(1, 1), stride=(1, 1))\n",
       "          (activation): ReLU()\n",
       "          (scale_activation): Hardsigmoid()\n",
       "        )\n",
       "        (3): Conv2dNormActivation(\n",
       "          (0): Conv2d(96, 40, kernel_size=(1, 1), stride=(1, 1), bias=False)\n",
       "          (1): BatchNorm2d(40, eps=0.001, momentum=0.01, affine=True, track_running_stats=True)\n",
       "        )\n",
       "      )\n",
       "    )\n",
       "    (5): InvertedResidual(\n",
       "      (block): Sequential(\n",
       "        (0): Conv2dNormActivation(\n",
       "          (0): Conv2d(40, 240, kernel_size=(1, 1), stride=(1, 1), bias=False)\n",
       "          (1): BatchNorm2d(240, eps=0.001, momentum=0.01, affine=True, track_running_stats=True)\n",
       "          (2): Hardswish()\n",
       "        )\n",
       "        (1): Conv2dNormActivation(\n",
       "          (0): Conv2d(240, 240, kernel_size=(5, 5), stride=(1, 1), padding=(2, 2), groups=240, bias=False)\n",
       "          (1): BatchNorm2d(240, eps=0.001, momentum=0.01, affine=True, track_running_stats=True)\n",
       "          (2): Hardswish()\n",
       "        )\n",
       "        (2): SqueezeExcitation(\n",
       "          (avgpool): AdaptiveAvgPool2d(output_size=1)\n",
       "          (fc1): Conv2d(240, 64, kernel_size=(1, 1), stride=(1, 1))\n",
       "          (fc2): Conv2d(64, 240, kernel_size=(1, 1), stride=(1, 1))\n",
       "          (activation): ReLU()\n",
       "          (scale_activation): Hardsigmoid()\n",
       "        )\n",
       "        (3): Conv2dNormActivation(\n",
       "          (0): Conv2d(240, 40, kernel_size=(1, 1), stride=(1, 1), bias=False)\n",
       "          (1): BatchNorm2d(40, eps=0.001, momentum=0.01, affine=True, track_running_stats=True)\n",
       "        )\n",
       "      )\n",
       "    )\n",
       "    (6): InvertedResidual(\n",
       "      (block): Sequential(\n",
       "        (0): Conv2dNormActivation(\n",
       "          (0): Conv2d(40, 240, kernel_size=(1, 1), stride=(1, 1), bias=False)\n",
       "          (1): BatchNorm2d(240, eps=0.001, momentum=0.01, affine=True, track_running_stats=True)\n",
       "          (2): Hardswish()\n",
       "        )\n",
       "        (1): Conv2dNormActivation(\n",
       "          (0): Conv2d(240, 240, kernel_size=(5, 5), stride=(1, 1), padding=(2, 2), groups=240, bias=False)\n",
       "          (1): BatchNorm2d(240, eps=0.001, momentum=0.01, affine=True, track_running_stats=True)\n",
       "          (2): Hardswish()\n",
       "        )\n",
       "        (2): SqueezeExcitation(\n",
       "          (avgpool): AdaptiveAvgPool2d(output_size=1)\n",
       "          (fc1): Conv2d(240, 64, kernel_size=(1, 1), stride=(1, 1))\n",
       "          (fc2): Conv2d(64, 240, kernel_size=(1, 1), stride=(1, 1))\n",
       "          (activation): ReLU()\n",
       "          (scale_activation): Hardsigmoid()\n",
       "        )\n",
       "        (3): Conv2dNormActivation(\n",
       "          (0): Conv2d(240, 40, kernel_size=(1, 1), stride=(1, 1), bias=False)\n",
       "          (1): BatchNorm2d(40, eps=0.001, momentum=0.01, affine=True, track_running_stats=True)\n",
       "        )\n",
       "      )\n",
       "    )\n",
       "    (7): InvertedResidual(\n",
       "      (block): Sequential(\n",
       "        (0): Conv2dNormActivation(\n",
       "          (0): Conv2d(40, 120, kernel_size=(1, 1), stride=(1, 1), bias=False)\n",
       "          (1): BatchNorm2d(120, eps=0.001, momentum=0.01, affine=True, track_running_stats=True)\n",
       "          (2): Hardswish()\n",
       "        )\n",
       "        (1): Conv2dNormActivation(\n",
       "          (0): Conv2d(120, 120, kernel_size=(5, 5), stride=(1, 1), padding=(2, 2), groups=120, bias=False)\n",
       "          (1): BatchNorm2d(120, eps=0.001, momentum=0.01, affine=True, track_running_stats=True)\n",
       "          (2): Hardswish()\n",
       "        )\n",
       "        (2): SqueezeExcitation(\n",
       "          (avgpool): AdaptiveAvgPool2d(output_size=1)\n",
       "          (fc1): Conv2d(120, 32, kernel_size=(1, 1), stride=(1, 1))\n",
       "          (fc2): Conv2d(32, 120, kernel_size=(1, 1), stride=(1, 1))\n",
       "          (activation): ReLU()\n",
       "          (scale_activation): Hardsigmoid()\n",
       "        )\n",
       "        (3): Conv2dNormActivation(\n",
       "          (0): Conv2d(120, 48, kernel_size=(1, 1), stride=(1, 1), bias=False)\n",
       "          (1): BatchNorm2d(48, eps=0.001, momentum=0.01, affine=True, track_running_stats=True)\n",
       "        )\n",
       "      )\n",
       "    )\n",
       "    (8): InvertedResidual(\n",
       "      (block): Sequential(\n",
       "        (0): Conv2dNormActivation(\n",
       "          (0): Conv2d(48, 144, kernel_size=(1, 1), stride=(1, 1), bias=False)\n",
       "          (1): BatchNorm2d(144, eps=0.001, momentum=0.01, affine=True, track_running_stats=True)\n",
       "          (2): Hardswish()\n",
       "        )\n",
       "        (1): Conv2dNormActivation(\n",
       "          (0): Conv2d(144, 144, kernel_size=(5, 5), stride=(1, 1), padding=(2, 2), groups=144, bias=False)\n",
       "          (1): BatchNorm2d(144, eps=0.001, momentum=0.01, affine=True, track_running_stats=True)\n",
       "          (2): Hardswish()\n",
       "        )\n",
       "        (2): SqueezeExcitation(\n",
       "          (avgpool): AdaptiveAvgPool2d(output_size=1)\n",
       "          (fc1): Conv2d(144, 40, kernel_size=(1, 1), stride=(1, 1))\n",
       "          (fc2): Conv2d(40, 144, kernel_size=(1, 1), stride=(1, 1))\n",
       "          (activation): ReLU()\n",
       "          (scale_activation): Hardsigmoid()\n",
       "        )\n",
       "        (3): Conv2dNormActivation(\n",
       "          (0): Conv2d(144, 48, kernel_size=(1, 1), stride=(1, 1), bias=False)\n",
       "          (1): BatchNorm2d(48, eps=0.001, momentum=0.01, affine=True, track_running_stats=True)\n",
       "        )\n",
       "      )\n",
       "    )\n",
       "    (9): InvertedResidual(\n",
       "      (block): Sequential(\n",
       "        (0): Conv2dNormActivation(\n",
       "          (0): Conv2d(48, 288, kernel_size=(1, 1), stride=(1, 1), bias=False)\n",
       "          (1): BatchNorm2d(288, eps=0.001, momentum=0.01, affine=True, track_running_stats=True)\n",
       "          (2): Hardswish()\n",
       "        )\n",
       "        (1): Conv2dNormActivation(\n",
       "          (0): Conv2d(288, 288, kernel_size=(5, 5), stride=(2, 2), padding=(2, 2), groups=288, bias=False)\n",
       "          (1): BatchNorm2d(288, eps=0.001, momentum=0.01, affine=True, track_running_stats=True)\n",
       "          (2): Hardswish()\n",
       "        )\n",
       "        (2): SqueezeExcitation(\n",
       "          (avgpool): AdaptiveAvgPool2d(output_size=1)\n",
       "          (fc1): Conv2d(288, 72, kernel_size=(1, 1), stride=(1, 1))\n",
       "          (fc2): Conv2d(72, 288, kernel_size=(1, 1), stride=(1, 1))\n",
       "          (activation): ReLU()\n",
       "          (scale_activation): Hardsigmoid()\n",
       "        )\n",
       "        (3): Conv2dNormActivation(\n",
       "          (0): Conv2d(288, 96, kernel_size=(1, 1), stride=(1, 1), bias=False)\n",
       "          (1): BatchNorm2d(96, eps=0.001, momentum=0.01, affine=True, track_running_stats=True)\n",
       "        )\n",
       "      )\n",
       "    )\n",
       "    (10): InvertedResidual(\n",
       "      (block): Sequential(\n",
       "        (0): Conv2dNormActivation(\n",
       "          (0): Conv2d(96, 576, kernel_size=(1, 1), stride=(1, 1), bias=False)\n",
       "          (1): BatchNorm2d(576, eps=0.001, momentum=0.01, affine=True, track_running_stats=True)\n",
       "          (2): Hardswish()\n",
       "        )\n",
       "        (1): Conv2dNormActivation(\n",
       "          (0): Conv2d(576, 576, kernel_size=(5, 5), stride=(1, 1), padding=(2, 2), groups=576, bias=False)\n",
       "          (1): BatchNorm2d(576, eps=0.001, momentum=0.01, affine=True, track_running_stats=True)\n",
       "          (2): Hardswish()\n",
       "        )\n",
       "        (2): SqueezeExcitation(\n",
       "          (avgpool): AdaptiveAvgPool2d(output_size=1)\n",
       "          (fc1): Conv2d(576, 144, kernel_size=(1, 1), stride=(1, 1))\n",
       "          (fc2): Conv2d(144, 576, kernel_size=(1, 1), stride=(1, 1))\n",
       "          (activation): ReLU()\n",
       "          (scale_activation): Hardsigmoid()\n",
       "        )\n",
       "        (3): Conv2dNormActivation(\n",
       "          (0): Conv2d(576, 96, kernel_size=(1, 1), stride=(1, 1), bias=False)\n",
       "          (1): BatchNorm2d(96, eps=0.001, momentum=0.01, affine=True, track_running_stats=True)\n",
       "        )\n",
       "      )\n",
       "    )\n",
       "    (11): InvertedResidual(\n",
       "      (block): Sequential(\n",
       "        (0): Conv2dNormActivation(\n",
       "          (0): Conv2d(96, 576, kernel_size=(1, 1), stride=(1, 1), bias=False)\n",
       "          (1): BatchNorm2d(576, eps=0.001, momentum=0.01, affine=True, track_running_stats=True)\n",
       "          (2): Hardswish()\n",
       "        )\n",
       "        (1): Conv2dNormActivation(\n",
       "          (0): Conv2d(576, 576, kernel_size=(5, 5), stride=(1, 1), padding=(2, 2), groups=576, bias=False)\n",
       "          (1): BatchNorm2d(576, eps=0.001, momentum=0.01, affine=True, track_running_stats=True)\n",
       "          (2): Hardswish()\n",
       "        )\n",
       "        (2): SqueezeExcitation(\n",
       "          (avgpool): AdaptiveAvgPool2d(output_size=1)\n",
       "          (fc1): Conv2d(576, 144, kernel_size=(1, 1), stride=(1, 1))\n",
       "          (fc2): Conv2d(144, 576, kernel_size=(1, 1), stride=(1, 1))\n",
       "          (activation): ReLU()\n",
       "          (scale_activation): Hardsigmoid()\n",
       "        )\n",
       "        (3): Conv2dNormActivation(\n",
       "          (0): Conv2d(576, 96, kernel_size=(1, 1), stride=(1, 1), bias=False)\n",
       "          (1): BatchNorm2d(96, eps=0.001, momentum=0.01, affine=True, track_running_stats=True)\n",
       "        )\n",
       "      )\n",
       "    )\n",
       "    (12): Conv2dNormActivation(\n",
       "      (0): Conv2d(96, 576, kernel_size=(1, 1), stride=(1, 1), bias=False)\n",
       "      (1): BatchNorm2d(576, eps=0.001, momentum=0.01, affine=True, track_running_stats=True)\n",
       "      (2): Hardswish()\n",
       "    )\n",
       "  )\n",
       "  (avgpool): AdaptiveAvgPool2d(output_size=1)\n",
       "  (classifier): Sequential(\n",
       "    (0): Linear(in_features=576, out_features=1024, bias=True)\n",
       "    (1): Hardswish()\n",
       "    (2): Dropout(p=0.2, inplace=True)\n",
       "    (3): Linear(in_features=1024, out_features=4, bias=True)\n",
       "  )\n",
       ")"
      ]
     },
     "execution_count": 61,
     "metadata": {},
     "output_type": "execute_result"
    }
   ],
   "execution_count": 61
  },
  {
   "metadata": {
    "ExecuteTime": {
     "end_time": "2024-06-08T21:01:24.409551Z",
     "start_time": "2024-06-08T21:01:24.404845Z"
    }
   },
   "cell_type": "code",
   "source": [
    "# Dummy GCN model class (customize this based on your actual implementation)\n",
    "class GCNModel(nn.Module):\n",
    "    def __init__(self, in_channels, hidden_channels, out_channels):\n",
    "        super(GCNModel, self).__init__()\n",
    "        self.conv1 = GCNConv(in_channels, hidden_channels)\n",
    "        self.conv2 = GCNConv(hidden_channels, out_channels)\n",
    "\n",
    "    def forward(self, data):\n",
    "        x, edge_index = data.x, data.edge_index\n",
    "        x = self.conv1(x, edge_index)\n",
    "        x = F.relu(x)\n",
    "        x = F.dropout(x, training=self.training)\n",
    "        x = self.conv2(x, edge_index)\n",
    "        return F.log_softmax(x, dim=1)"
   ],
   "id": "c6a99b1577dca309",
   "outputs": [],
   "execution_count": 62
  },
  {
   "metadata": {
    "ExecuteTime": {
     "end_time": "2024-06-08T21:01:24.425518Z",
     "start_time": "2024-06-08T21:01:24.410560Z"
    }
   },
   "cell_type": "code",
   "source": [
    "# Load GCN model\n",
    "gcn_model = GCNModel(in_channels=256, hidden_channels=82, out_channels=4)\n",
    "gcn_checkpoint = torch.load(\"D:/Projects/ML/GCN/Framework/cuda_tree_model/gcn_model_v8/gcn_epoch_269.pth\", map_location=device)\n",
    "gcn_model.load_state_dict(gcn_checkpoint)\n",
    "gcn_model = gcn_model.to(device)\n",
    "gcn_model.eval()"
   ],
   "id": "aa73033e1cd5aa57",
   "outputs": [
    {
     "data": {
      "text/plain": [
       "GCNModel(\n",
       "  (conv1): GCNConv(256, 82)\n",
       "  (conv2): GCNConv(82, 4)\n",
       ")"
      ]
     },
     "execution_count": 63,
     "metadata": {},
     "output_type": "execute_result"
    }
   ],
   "execution_count": 63
  },
  {
   "metadata": {
    "ExecuteTime": {
     "end_time": "2024-06-08T21:01:24.430116Z",
     "start_time": "2024-06-08T21:01:24.427029Z"
    }
   },
   "cell_type": "code",
   "source": [
    "# Transform for input images (you might not need this if you're using pre-computed features)\n",
    "transform = T.Compose([\n",
    "    T.ToPILImage(),\n",
    "    T.Resize((224, 224)),\n",
    "    T.ToTensor(),\n",
    "    T.Normalize([0.485, 0.456, 0.406], [0.229, 0.224, 0.225])\n",
    "])"
   ],
   "id": "12ac868d055af038",
   "outputs": [],
   "execution_count": 64
  },
  {
   "metadata": {
    "ExecuteTime": {
     "end_time": "2024-06-08T21:01:24.435568Z",
     "start_time": "2024-06-08T21:01:24.431123Z"
    }
   },
   "cell_type": "code",
   "source": [
    "# Path setup\n",
    "test_annotations_dir = \"D:/Projects/ML/GCN/Dataset_GCN_classifier_mobilenetv3/test\"  # Directory containing test txt files\n",
    "test_images_dir = \"D:/Projects/ML/GCN/Dataset_classifier/test/images\"  # Directory containing test images\n",
    "output_annotations_dir = \"D:/Projects/ML/GCN/Outputs/results_comprehensive_vX_combo\"  # Output directory for predictions\n",
    "os.makedirs(output_annotations_dir, exist_ok=True)"
   ],
   "id": "initial_id",
   "outputs": [],
   "execution_count": 65
  },
  {
   "metadata": {
    "ExecuteTime": {
     "end_time": "2024-06-08T21:01:24.441906Z",
     "start_time": "2024-06-08T21:01:24.435568Z"
    }
   },
   "cell_type": "code",
   "source": [
    "def read_annotations(filename):\n",
    "    with open(filename, 'r') as file:\n",
    "        lines = file.readlines()\n",
    "    annotations = []\n",
    "    for line in lines:\n",
    "        parts = line.strip().split()\n",
    "        if len(parts) >= 204:\n",
    "            label = parts[0]\n",
    "            x1, y1, x2, y2 = map(int, parts[1:5])\n",
    "            feature_vector = np.array(list(map(float, parts[5:])))\n",
    "            annotations.append((label, x1, y1, x2, y2, feature_vector))\n",
    "    return annotations"
   ],
   "id": "2939fdf3f6faae05",
   "outputs": [],
   "execution_count": 66
  },
  {
   "metadata": {
    "ExecuteTime": {
     "end_time": "2024-06-08T21:01:24.447965Z",
     "start_time": "2024-06-08T21:01:24.442912Z"
    }
   },
   "cell_type": "code",
   "source": [
    "def classify_with_mobilenet(image_crop):\n",
    "    image_tensor = transform(image_crop).unsqueeze(0).to(device)\n",
    "    with torch.no_grad():\n",
    "        output = mobilenet_model(image_tensor)\n",
    "        sp = nn.Sigmoid()\n",
    "        confidence = sp(torch.max(output[0])).cpu().numpy() / (sp(output[0][0]) + sp(output[0][1]) + sp(output[0][2]) + sp(output[0][3])).cpu().numpy()\n",
    "        _, predicted_class = torch.max(output, dim=1)\n",
    "    return predicted_class.item(), confidence"
   ],
   "id": "7b77477f9626c619",
   "outputs": [],
   "execution_count": 67
  },
  {
   "metadata": {
    "ExecuteTime": {
     "end_time": "2024-06-08T21:01:24.452416Z",
     "start_time": "2024-06-08T21:01:24.448971Z"
    }
   },
   "cell_type": "code",
   "source": "import networkx as nx",
   "id": "c862d7b597d1e9a5",
   "outputs": [],
   "execution_count": 68
  },
  {
   "metadata": {
    "ExecuteTime": {
     "end_time": "2024-06-08T21:01:24.457455Z",
     "start_time": "2024-06-08T21:01:24.453426Z"
    }
   },
   "cell_type": "code",
   "source": [
    "def label_mapping(label):\n",
    "    if label.lower() == 'ld':\n",
    "        return 0\n",
    "    if label.lower() == 'hd':\n",
    "        return 1\n",
    "    if label.lower() == 'other':\n",
    "        return 2\n",
    "    if label.lower() == 'h':\n",
    "        return 3"
   ],
   "id": "c673271e07e8efbd",
   "outputs": [],
   "execution_count": 69
  },
  {
   "metadata": {
    "ExecuteTime": {
     "end_time": "2024-06-08T21:01:24.463584Z",
     "start_time": "2024-06-08T21:01:24.459462Z"
    }
   },
   "cell_type": "code",
   "source": [
    "# for annotation_file in os.listdir(test_annotations_dir):\n",
    "#     full_path = os.path.join(test_annotations_dir, annotation_file)\n",
    "# \n",
    "#     # Read annotations\n",
    "#     annotations = read_annotations(full_path)\n",
    "# \n",
    "#     # Load related image\n",
    "#     image_filename = annotation_file.replace('.txt', '.jpg')  # assuming images are in JPEG format\n",
    "#     image_path = os.path.join(test_images_dir, image_filename)\n",
    "#     # image = Image.open(image_path).convert('RGB')\n",
    "#     image = cv2.imread(image_path)\n",
    "# \n",
    "#     # Separate annotations for MobileNet and GCN\n",
    "#     mobilenet_annotations = []\n",
    "#     gcn_annotations = []\n",
    "# \n",
    "#     for annotation in annotations:\n",
    "#         label, x1, y1, x2, y2, feature_vector = annotation\n",
    "#         # label = label_mapping(label)\n",
    "#         # Crop the image to the bounding box\n",
    "#         image_crop = image[y1:y2+1, x1:x2+1]\n",
    "# \n",
    "#         # Classify with MobileNetV3\n",
    "#         predicted_class, confidence = classify_with_mobilenet(image_crop)\n",
    "# \n",
    "#         if confidence > 0.45:\n",
    "#             mobilenet_annotations.append((label, x1, y1, x2, y2, predicted_class))\n",
    "#         else:\n",
    "#             gcn_annotations.append((label, x1, y1, x2, y2, feature_vector))\n",
    "#         #mobilenet_annotations.append((label, x1, y1, x2, y2, predicted_class))\n",
    "# \n",
    "#     #         \n",
    "#     # if len(gcn_annotations) == 1:\n",
    "#     #     label, x1, y1, x2, y2, feature_vector = gcn_annotations[0]\n",
    "#     #     image_crop = image[y1:y2+1, x1:x2+1]\n",
    "#     #     predicted_class, confidence = classify_with_mobilenet(image_crop)\n",
    "#     #     mobilenet_annotations.append((label, x1, y1, x2, y2, predicted_class))\n",
    "#     # \n",
    "#     # if len(gcn_annotations) > 1:\n",
    "#     #     # Create a graph for GCN\n",
    "#     #     G = nx.Graph()\n",
    "#     #     node_features = []\n",
    "#     # \n",
    "#     #     edges = []\n",
    "#     # \n",
    "#     #     # Add nodes\n",
    "#     #     for i, (label, x1, y1, x2, y2, feature_vector) in enumerate(gcn_annotations):\n",
    "#     #         G.add_node(i, feature=feature_vector)\n",
    "#     #         node_features.append(feature_vector)\n",
    "#     # \n",
    "#     #     # Add edges - fully connected graph\n",
    "#     #     for i in range(len(gcn_annotations)):\n",
    "#     #         for j in range(i + 1, len(gcn_annotations)):\n",
    "#     #             edges.append([i, j])\n",
    "#     # \n",
    "#     #     # Extract edge index\n",
    "#     #     edge_index = torch.tensor(edges, dtype=torch.long).t().contiguous()\n",
    "#     #     node_features_tensor = torch.tensor(node_features, dtype=torch.float)\n",
    "#     # \n",
    "#     #     data = Data(node_features_tensor, edge_index, node_features_tensor).to(device)\n",
    "#     #     # Run GCN classifier\n",
    "#     #     # gcn_features = torch.tensor(node_features, dtype=torch.float32).to(device)\n",
    "#     #     with torch.no_grad():\n",
    "#     #         gcn_output = gcn_model(data)\n",
    "#     #         gcn_predictions = gcn_output.max(1)[1].cpu().numpy()\n",
    "#     # \n",
    "#     # if (len(gcn_annotations) > 1):\n",
    "#     #     # Combine results\n",
    "#     #     combined_annotations = mobilenet_annotations + \\\n",
    "#     #                            [(label, x1, y1, x2, y2, gcn_predictions[i])\n",
    "#     #                             for i, (label, x1, y1, x2, y2, _) in enumerate(gcn_annotations)]\n",
    "#     # else:\n",
    "#     #     combined_annotations = mobilenet_annotations\n",
    "#     # \n",
    "#     # # Save output\n",
    "#     # output_path = os.path.join(output_annotations_dir, annotation_file)\n",
    "#     # with open(output_path, 'w') as output_file:\n",
    "#     #     for label, x1, y1, x2, y2, predicted_label in combined_annotations:\n",
    "#     #         output_file.write(f\"{label} {x1} {y1} {x2} {y2} {predicted_label}\\n\")\n",
    "#     #     print(annotation_file)\n",
    "#     # \n",
    "#     # # Collect for overall results\n",
    "#     # results.extend(combined_annotations)\n",
    "# \n",
    "#         # Save output\n",
    "#     output_path = os.path.join(output_annotations_dir, annotation_file)\n",
    "#     with open(output_path, 'w') as output_file:\n",
    "#         for label, x1, y1, x2, y2, predicted_label in mobilenet_annotations:\n",
    "#             output_file.write(f\"{label} {x1} {y1} {x2} {y2} {predicted_label}\\n\")\n",
    "# \n",
    "#     # Collect for overall results\n",
    "#     results.extend(mobilenet_annotations)"
   ],
   "id": "f8edf8c30a444b1f",
   "outputs": [],
   "execution_count": 70
  },
  {
   "metadata": {
    "ExecuteTime": {
     "end_time": "2024-06-08T21:01:24.468356Z",
     "start_time": "2024-06-08T21:01:24.464591Z"
    }
   },
   "cell_type": "code",
   "source": [
    "# # Calculate metrics\n",
    "# true_labels = [int(label) for label, _, _, _, _, _ in results]\n",
    "# predicted_labels = [predicted_label for _, _, _, _, _, predicted_label in results]\n",
    "# precision, recall, f1, _ = precision_recall_fscore_support(true_labels, predicted_labels, average='macro')\n",
    "# print(f'Precision: {precision:.4f}, Recall: {recall:.4f}, F1 Score: {f1:.4f}')"
   ],
   "id": "cb2b76d5be0e70f",
   "outputs": [],
   "execution_count": 71
  },
  {
   "metadata": {
    "ExecuteTime": {
     "end_time": "2024-06-08T21:52:14.605342Z",
     "start_time": "2024-06-08T21:01:24.468634Z"
    }
   },
   "cell_type": "code",
   "source": [
    "for steps in range(0, 105, 5):\n",
    "    conf_threshold = round(float(steps / 100), 2)\n",
    "    \n",
    "    results = []\n",
    "\n",
    "    for annotation_file in os.listdir(test_annotations_dir):\n",
    "        full_path = os.path.join(test_annotations_dir, annotation_file)\n",
    "\n",
    "        # Read annotations\n",
    "        annotations = read_annotations(full_path)\n",
    "    \n",
    "        # Load related image\n",
    "        image_filename = annotation_file.replace('.txt', '.jpg')  # assuming images are in JPEG format\n",
    "        image_path = os.path.join(test_images_dir, image_filename)\n",
    "        # image = Image.open(image_path).convert('RGB')\n",
    "        image = cv2.imread(image_path)\n",
    "    \n",
    "        # Separate annotations for MobileNet and GCN\n",
    "        mobilenet_annotations = []\n",
    "        gcn_annotations = []\n",
    "    \n",
    "        for annotation in annotations:\n",
    "            label, x1, y1, x2, y2, feature_vector = annotation\n",
    "            # label = label_mapping(label)\n",
    "            # Crop the image to the bounding box\n",
    "            image_crop = image[y1:y2 + 1, x1:x2 + 1]\n",
    "    \n",
    "            # Classify with MobileNetV3\n",
    "            predicted_class, confidence = classify_with_mobilenet(image_crop)\n",
    "    \n",
    "            if confidence > conf_threshold:\n",
    "                mobilenet_annotations.append((label, x1, y1, x2, y2, predicted_class))\n",
    "            else:\n",
    "                # gcn_annotations.append((label, x1, y1, x2, y2, feature_vector))\n",
    "                mobilenet_annotations.append((label, x1, y1, x2, y2, -1))\n",
    "    \n",
    "\n",
    "        # if len(gcn_annotations) == 1:\n",
    "        #     label, x1, y1, x2, y2, feature_vector = gcn_annotations[0]\n",
    "        #     image_crop = image[y1:y2+1, x1:x2+1]\n",
    "        #     predicted_class, confidence = classify_with_mobilenet(image_crop)\n",
    "        #     mobilenet_annotations.append((label, x1, y1, x2, y2, predicted_class))\n",
    "        # \n",
    "        # if len(gcn_annotations) > 1:\n",
    "        #     # Create a graph for GCN\n",
    "        #     G = nx.Graph()\n",
    "        #     node_features = []\n",
    "        # \n",
    "        #     edges = []\n",
    "        #     distances = []\n",
    "        #     mean_distance=10000\n",
    "        # \n",
    "        #     # Add nodes\n",
    "        #     for i, (label, x1, y1, x2, y2, feature_vector) in enumerate(gcn_annotations):\n",
    "        #         G.add_node(i, feature=feature_vector)\n",
    "        #         node_features.append(feature_vector)\n",
    "        # \n",
    "        #     for i in range(len(gcn_annotations)):\n",
    "        #         for j in range(i+1, len(gcn_annotations)):\n",
    "        #             x1, y1, x2, y2 = gcn_annotations[i][1:5]\n",
    "        #             x1_, y1_, x2_, y2_ = gcn_annotations[j][1:5]\n",
    "        #             distance = math.sqrt(((x1+x2) / 2 - (x1_+x2_) / 2)**2 + ((y1+y2) / 2 - (y1_+y2_) / 2)**2)\n",
    "        #             distances.append(distance)\n",
    "        #     \n",
    "        #     mean_distance = sum(distances) / len(distances) + 1\n",
    "        #     \n",
    "        #     for i in range(len(gcn_annotations)):\n",
    "        #         for j in range(i+1, len(gcn_annotations)):\n",
    "        #             x1, y1, x2, y2 = gcn_annotations[i][1:5]\n",
    "        #             x1_, y1_, x2_, y2_ = gcn_annotations[j][1:5]\n",
    "        #             distance = math.sqrt(((x1+x2) / 2 - (x1_+x2_) / 2)**2 + ((y1+y2) / 2 - (y1_+y2_) / 2)**2)\n",
    "        #             if distance < mean_distance:\n",
    "        #                 edges.append([i, j])\n",
    "        # \n",
    "        #     # # Add edges - fully connected graph\n",
    "        #     # for i in range(len(gcn_annotations)):\n",
    "        #     #     for j in range(i + 1, len(gcn_annotations)):\n",
    "        #     #         edges.append([i, j])\n",
    "        # \n",
    "        #     # Extract edge index\n",
    "        #     edge_index = torch.tensor(edges, dtype=torch.long).t().contiguous()\n",
    "        #     node_features_tensor = torch.tensor(node_features, dtype=torch.float)\n",
    "        # \n",
    "        #     data = Data(node_features_tensor, edge_index, node_features_tensor).to(device)\n",
    "        #     # Run GCN classifier\n",
    "        #     # gcn_features = torch.tensor(node_features, dtype=torch.float32).to(device)\n",
    "        #     with torch.no_grad():\n",
    "        #         gcn_output = gcn_model(data)\n",
    "        #         gcn_predictions = gcn_output.max(1)[1].cpu().numpy()\n",
    "        # \n",
    "        # if (len(gcn_annotations) > 1):\n",
    "        #     # Combine results\n",
    "        #     combined_annotations = mobilenet_annotations + \\\n",
    "        #                            [(label, x1, y1, x2, y2, gcn_predictions[i])\n",
    "        #                             for i, (label, x1, y1, x2, y2, _) in enumerate(gcn_annotations)]\n",
    "        # else:\n",
    "        #     combined_annotations = mobilenet_annotations\n",
    "\n",
    "        # Save output\n",
    "        output_path = os.path.join(output_annotations_dir, annotation_file)\n",
    "        with open(output_path, 'w') as output_file:\n",
    "            for label, x1, y1, x2, y2, predicted_label in mobilenet_annotations:\n",
    "                output_file.write(f\"{label} {x1} {y1} {x2} {y2} {predicted_label}\\n\")\n",
    "\n",
    "        # Collect for overall results\n",
    "        results.extend(mobilenet_annotations)\n",
    "    \n",
    "    # Calculate metrics\n",
    "    true_labels = [int(label) for label, _, _, _, _, _ in results]\n",
    "    predicted_labels = [int(predicted_label) for _, _, _, _, _, predicted_label in results]\n",
    "    # precision, recall, f1, _ = precision_recall_fscore_support(true_labels, predicted_labels, average='macro')\n",
    "    res = precision_recall_fscore_support(true_labels, predicted_labels, average=None)\n",
    "    p, r, f1, _ = precision_recall_fscore_support(true_labels, predicted_labels, average='weighted')\n",
    "    print(f\"'0': P: {res[0][0]} , R: {res[1][0]} , F1: {res[2][0]} , conf: {conf_threshold}\")\n",
    "    print(f\"'1': P: {res[0][1]} , R: {res[1][1]} , F1: {res[2][1]} , conf: {conf_threshold}\")\n",
    "    print(f\"'2': P: {res[0][2]} , R: {res[1][2]} , F1: {res[2][2]} , conf: {conf_threshold}\")\n",
    "    print(f\"'3': P: {res[0][3]} , R: {res[1][3]} , F1: {res[2][3]} , conf: {conf_threshold}\")\n",
    "    print(f\"weighted: P: {p} , R: {r} , F1: {f1} , conf: {conf_threshold}\")\n",
    "    # print(f'Conf: {conf_threshold}, Precision: {precision:.6f}, Recall: {recall:.6f}, F1 Score: {f1:.6f}')"
   ],
   "id": "305dcecd5595f1a0",
   "outputs": [
    {
     "name": "stdout",
     "output_type": "stream",
     "text": [
      "'0': P: 0.8984836802878438 , R: 0.9479392624728851 , F1: 0.9225491489642433 , conf: 0.0\n",
      "'1': P: 0.8086070215175538 , R: 0.7702265372168284 , F1: 0.7889502762430939 , conf: 0.0\n",
      "'2': P: 0.9953892534137259 , R: 0.9952127659574468 , F1: 0.9953010018618672 , conf: 0.0\n",
      "'3': P: 0.76 , R: 0.29457364341085274 , F1: 0.4245810055865922 , conf: 0.0\n",
      "weighted: P: 0.9391479036527874 , R: 0.9415961190906497 , F1: 0.9375780193474507 , conf: 0.0\n",
      "'0': P: 0.8984836802878438 , R: 0.9479392624728851 , F1: 0.9225491489642433 , conf: 0.05\n",
      "'1': P: 0.8086070215175538 , R: 0.7702265372168284 , F1: 0.7889502762430939 , conf: 0.05\n",
      "'2': P: 0.9953892534137259 , R: 0.9952127659574468 , F1: 0.9953010018618672 , conf: 0.05\n",
      "'3': P: 0.76 , R: 0.29457364341085274 , F1: 0.4245810055865922 , conf: 0.05\n",
      "weighted: P: 0.9391479036527874 , R: 0.9415961190906497 , F1: 0.9375780193474507 , conf: 0.05\n",
      "'0': P: 0.8984836802878438 , R: 0.9479392624728851 , F1: 0.9225491489642433 , conf: 0.1\n",
      "'1': P: 0.8086070215175538 , R: 0.7702265372168284 , F1: 0.7889502762430939 , conf: 0.1\n",
      "'2': P: 0.9953892534137259 , R: 0.9952127659574468 , F1: 0.9953010018618672 , conf: 0.1\n",
      "'3': P: 0.76 , R: 0.29457364341085274 , F1: 0.4245810055865922 , conf: 0.1\n",
      "weighted: P: 0.9391479036527874 , R: 0.9415961190906497 , F1: 0.9375780193474507 , conf: 0.1\n",
      "'0': P: 0.8984836802878438 , R: 0.9479392624728851 , F1: 0.9225491489642433 , conf: 0.15\n",
      "'1': P: 0.8086070215175538 , R: 0.7702265372168284 , F1: 0.7889502762430939 , conf: 0.15\n",
      "'2': P: 0.9953892534137259 , R: 0.9952127659574468 , F1: 0.9953010018618672 , conf: 0.15\n",
      "'3': P: 0.76 , R: 0.29457364341085274 , F1: 0.4245810055865922 , conf: 0.15\n",
      "weighted: P: 0.9391479036527874 , R: 0.9415961190906497 , F1: 0.9375780193474507 , conf: 0.15\n",
      "'0': P: 0.8984836802878438 , R: 0.9479392624728851 , F1: 0.9225491489642433 , conf: 0.2\n",
      "'1': P: 0.8086070215175538 , R: 0.7702265372168284 , F1: 0.7889502762430939 , conf: 0.2\n",
      "'2': P: 0.9953892534137259 , R: 0.9952127659574468 , F1: 0.9953010018618672 , conf: 0.2\n",
      "'3': P: 0.76 , R: 0.29457364341085274 , F1: 0.4245810055865922 , conf: 0.2\n",
      "weighted: P: 0.9391479036527874 , R: 0.9415961190906497 , F1: 0.9375780193474507 , conf: 0.2\n",
      "'0': P: 0.8984836802878438 , R: 0.9479392624728851 , F1: 0.9225491489642433 , conf: 0.25\n",
      "'1': P: 0.8086070215175538 , R: 0.7702265372168284 , F1: 0.7889502762430939 , conf: 0.25\n",
      "'2': P: 0.9953892534137259 , R: 0.9952127659574468 , F1: 0.9953010018618672 , conf: 0.25\n",
      "'3': P: 0.76 , R: 0.29457364341085274 , F1: 0.4245810055865922 , conf: 0.25\n",
      "weighted: P: 0.9391479036527874 , R: 0.9415961190906497 , F1: 0.9375780193474507 , conf: 0.25\n",
      "'0': P: 0.8984836802878438 , R: 0.9479392624728851 , F1: 0.9225491489642433 , conf: 0.3\n",
      "'1': P: 0.8086070215175538 , R: 0.7702265372168284 , F1: 0.7889502762430939 , conf: 0.3\n",
      "'2': P: 0.9953892534137259 , R: 0.9952127659574468 , F1: 0.9953010018618672 , conf: 0.3\n",
      "'3': P: 0.76 , R: 0.29457364341085274 , F1: 0.4245810055865922 , conf: 0.3\n",
      "weighted: P: 0.9391479036527874 , R: 0.9415961190906497 , F1: 0.9375780193474507 , conf: 0.3\n"
     ]
    },
    {
     "name": "stderr",
     "output_type": "stream",
     "text": [
      "D:\\Projects\\ML\\GCN\\Framework\\cuda_tree_model\\.venv\\Lib\\site-packages\\sklearn\\metrics\\_classification.py:1509: UndefinedMetricWarning: Recall is ill-defined and being set to 0.0 in labels with no true samples. Use `zero_division` parameter to control this behavior.\n",
      "  _warn_prf(average, modifier, f\"{metric.capitalize()} is\", len(result))\n",
      "D:\\Projects\\ML\\GCN\\Framework\\cuda_tree_model\\.venv\\Lib\\site-packages\\sklearn\\metrics\\_classification.py:1509: UndefinedMetricWarning: Recall is ill-defined and being set to 0.0 in labels with no true samples. Use `zero_division` parameter to control this behavior.\n",
      "  _warn_prf(average, modifier, f\"{metric.capitalize()} is\", len(result))\n"
     ]
    },
    {
     "name": "stdout",
     "output_type": "stream",
     "text": [
      "'0': P: 0.0 , R: 0.0 , F1: 0.0 , conf: 0.35\n",
      "'1': P: 0.8984575835475579 , R: 0.9476681127982647 , F1: 0.9224069675376089 , conf: 0.35\n",
      "'2': P: 0.808390022675737 , R: 0.7691477885652643 , F1: 0.7882808181315644 , conf: 0.35\n",
      "'3': P: 0.9955642299503193 , R: 0.9948581560283688 , F1: 0.9952110677545228 , conf: 0.35\n",
      "weighted: P: 0.9395941223929101 , R: 0.941215637781794 , F1: 0.9374794007602928 , conf: 0.35\n"
     ]
    },
    {
     "name": "stderr",
     "output_type": "stream",
     "text": [
      "D:\\Projects\\ML\\GCN\\Framework\\cuda_tree_model\\.venv\\Lib\\site-packages\\sklearn\\metrics\\_classification.py:1509: UndefinedMetricWarning: Recall is ill-defined and being set to 0.0 in labels with no true samples. Use `zero_division` parameter to control this behavior.\n",
      "  _warn_prf(average, modifier, f\"{metric.capitalize()} is\", len(result))\n",
      "D:\\Projects\\ML\\GCN\\Framework\\cuda_tree_model\\.venv\\Lib\\site-packages\\sklearn\\metrics\\_classification.py:1509: UndefinedMetricWarning: Recall is ill-defined and being set to 0.0 in labels with no true samples. Use `zero_division` parameter to control this behavior.\n",
      "  _warn_prf(average, modifier, f\"{metric.capitalize()} is\", len(result))\n"
     ]
    },
    {
     "name": "stdout",
     "output_type": "stream",
     "text": [
      "'0': P: 0.0 , R: 0.0 , F1: 0.0 , conf: 0.4\n",
      "'1': P: 0.899974220159835 , R: 0.946583514099783 , F1: 0.9226906303687062 , conf: 0.4\n",
      "'2': P: 0.8130733944954128 , R: 0.7648327939590076 , F1: 0.7882156753752084 , conf: 0.4\n",
      "'3': P: 0.99644128113879 , R: 0.9929078014184397 , F1: 0.9946714031971581 , conf: 0.4\n",
      "weighted: P: 0.9412412170932896 , R: 0.9391229905830876 , F1: 0.9370134052335982 , conf: 0.4\n"
     ]
    },
    {
     "name": "stderr",
     "output_type": "stream",
     "text": [
      "D:\\Projects\\ML\\GCN\\Framework\\cuda_tree_model\\.venv\\Lib\\site-packages\\sklearn\\metrics\\_classification.py:1509: UndefinedMetricWarning: Recall is ill-defined and being set to 0.0 in labels with no true samples. Use `zero_division` parameter to control this behavior.\n",
      "  _warn_prf(average, modifier, f\"{metric.capitalize()} is\", len(result))\n",
      "D:\\Projects\\ML\\GCN\\Framework\\cuda_tree_model\\.venv\\Lib\\site-packages\\sklearn\\metrics\\_classification.py:1509: UndefinedMetricWarning: Recall is ill-defined and being set to 0.0 in labels with no true samples. Use `zero_division` parameter to control this behavior.\n",
      "  _warn_prf(average, modifier, f\"{metric.capitalize()} is\", len(result))\n"
     ]
    },
    {
     "name": "stdout",
     "output_type": "stream",
     "text": [
      "'0': P: 0.0 , R: 0.0 , F1: 0.0 , conf: 0.45\n",
      "'1': P: 0.9028571428571428 , R: 0.9425162689804772 , F1: 0.9222605465640753 , conf: 0.45\n",
      "'2': P: 0.8249118683901293 , R: 0.7572815533980582 , F1: 0.7896512935883014 , conf: 0.45\n",
      "'3': P: 0.9974946313528991 , R: 0.9882978723404255 , F1: 0.9928749554684717 , conf: 0.45\n",
      "weighted: P: 0.9435616667030134 , R: 0.9340816132407496 , F1: 0.9354635972939335 , conf: 0.45\n"
     ]
    },
    {
     "name": "stderr",
     "output_type": "stream",
     "text": [
      "D:\\Projects\\ML\\GCN\\Framework\\cuda_tree_model\\.venv\\Lib\\site-packages\\sklearn\\metrics\\_classification.py:1509: UndefinedMetricWarning: Recall is ill-defined and being set to 0.0 in labels with no true samples. Use `zero_division` parameter to control this behavior.\n",
      "  _warn_prf(average, modifier, f\"{metric.capitalize()} is\", len(result))\n",
      "D:\\Projects\\ML\\GCN\\Framework\\cuda_tree_model\\.venv\\Lib\\site-packages\\sklearn\\metrics\\_classification.py:1509: UndefinedMetricWarning: Recall is ill-defined and being set to 0.0 in labels with no true samples. Use `zero_division` parameter to control this behavior.\n",
      "  _warn_prf(average, modifier, f\"{metric.capitalize()} is\", len(result))\n"
     ]
    },
    {
     "name": "stdout",
     "output_type": "stream",
     "text": [
      "'0': P: 0.0 , R: 0.0 , F1: 0.0 , conf: 0.5\n",
      "'1': P: 0.922886937431394 , R: 0.9118763557483731 , F1: 0.9173486088379705 , conf: 0.5\n",
      "'2': P: 0.8644536652835408 , R: 0.674217907227616 , F1: 0.7575757575757576 , conf: 0.5\n",
      "'3': P: 0.9994582881906826 , R: 0.9813829787234043 , F1: 0.9903381642512077 , conf: 0.5\n",
      "weighted: P: 0.9563429707689153 , R: 0.9093503281651288 , F1: 0.9258985583595618 , conf: 0.5\n"
     ]
    },
    {
     "name": "stderr",
     "output_type": "stream",
     "text": [
      "D:\\Projects\\ML\\GCN\\Framework\\cuda_tree_model\\.venv\\Lib\\site-packages\\sklearn\\metrics\\_classification.py:1509: UndefinedMetricWarning: Precision is ill-defined and being set to 0.0 in labels with no predicted samples. Use `zero_division` parameter to control this behavior.\n",
      "  _warn_prf(average, modifier, f\"{metric.capitalize()} is\", len(result))\n",
      "D:\\Projects\\ML\\GCN\\Framework\\cuda_tree_model\\.venv\\Lib\\site-packages\\sklearn\\metrics\\_classification.py:1509: UndefinedMetricWarning: Recall is ill-defined and being set to 0.0 in labels with no true samples. Use `zero_division` parameter to control this behavior.\n",
      "  _warn_prf(average, modifier, f\"{metric.capitalize()} is\", len(result))\n",
      "D:\\Projects\\ML\\GCN\\Framework\\cuda_tree_model\\.venv\\Lib\\site-packages\\sklearn\\metrics\\_classification.py:1509: UndefinedMetricWarning: Precision is ill-defined and being set to 0.0 in labels with no predicted samples. Use `zero_division` parameter to control this behavior.\n",
      "  _warn_prf(average, modifier, f\"{metric.capitalize()} is\", len(result))\n",
      "D:\\Projects\\ML\\GCN\\Framework\\cuda_tree_model\\.venv\\Lib\\site-packages\\sklearn\\metrics\\_classification.py:1509: UndefinedMetricWarning: Recall is ill-defined and being set to 0.0 in labels with no true samples. Use `zero_division` parameter to control this behavior.\n",
      "  _warn_prf(average, modifier, f\"{metric.capitalize()} is\", len(result))\n"
     ]
    },
    {
     "name": "stdout",
     "output_type": "stream",
     "text": [
      "'0': P: 0.0 , R: 0.0 , F1: 0.0 , conf: 0.55\n",
      "'1': P: 0.9708398133748056 , R: 0.6770607375271149 , F1: 0.7977635782747604 , conf: 0.55\n",
      "'2': P: 0.9824561403508771 , R: 0.06040992448759439 , F1: 0.11382113821138211 , conf: 0.55\n",
      "'3': P: 0.9998152595603178 , R: 0.9595744680851064 , F1: 0.9792816429928526 , conf: 0.55\n",
      "weighted: P: 0.9635833860697934 , R: 0.7576334062589175 , F1: 0.8152585121543762 , conf: 0.55\n"
     ]
    },
    {
     "name": "stderr",
     "output_type": "stream",
     "text": [
      "D:\\Projects\\ML\\GCN\\Framework\\cuda_tree_model\\.venv\\Lib\\site-packages\\sklearn\\metrics\\_classification.py:1509: UndefinedMetricWarning: Precision is ill-defined and being set to 0.0 in labels with no predicted samples. Use `zero_division` parameter to control this behavior.\n",
      "  _warn_prf(average, modifier, f\"{metric.capitalize()} is\", len(result))\n",
      "D:\\Projects\\ML\\GCN\\Framework\\cuda_tree_model\\.venv\\Lib\\site-packages\\sklearn\\metrics\\_classification.py:1509: UndefinedMetricWarning: Recall is ill-defined and being set to 0.0 in labels with no true samples. Use `zero_division` parameter to control this behavior.\n",
      "  _warn_prf(average, modifier, f\"{metric.capitalize()} is\", len(result))\n",
      "D:\\Projects\\ML\\GCN\\Framework\\cuda_tree_model\\.venv\\Lib\\site-packages\\sklearn\\metrics\\_classification.py:1509: UndefinedMetricWarning: Precision is ill-defined and being set to 0.0 in labels with no predicted samples. Use `zero_division` parameter to control this behavior.\n",
      "  _warn_prf(average, modifier, f\"{metric.capitalize()} is\", len(result))\n",
      "D:\\Projects\\ML\\GCN\\Framework\\cuda_tree_model\\.venv\\Lib\\site-packages\\sklearn\\metrics\\_classification.py:1509: UndefinedMetricWarning: Recall is ill-defined and being set to 0.0 in labels with no true samples. Use `zero_division` parameter to control this behavior.\n",
      "  _warn_prf(average, modifier, f\"{metric.capitalize()} is\", len(result))\n"
     ]
    },
    {
     "name": "stdout",
     "output_type": "stream",
     "text": [
      "'0': P: 0.0 , R: 0.0 , F1: 0.0 , conf: 0.6\n",
      "'1': P: 0.986848760748609 , R: 0.5290130151843818 , F1: 0.6887908208296558 , conf: 0.6\n",
      "'2': P: 1.0 , R: 0.007551240560949299 , F1: 0.014989293361884369 , conf: 0.6\n",
      "'3': P: 0.9998104983892363 , R: 0.9354609929078014 , F1: 0.9665659063845379 , conf: 0.6\n",
      "weighted: P: 0.9707437877443321 , R: 0.6881004470655379 , F1: 0.7614940867663873 , conf: 0.6\n"
     ]
    },
    {
     "name": "stderr",
     "output_type": "stream",
     "text": [
      "D:\\Projects\\ML\\GCN\\Framework\\cuda_tree_model\\.venv\\Lib\\site-packages\\sklearn\\metrics\\_classification.py:1509: UndefinedMetricWarning: Precision is ill-defined and being set to 0.0 in labels with no predicted samples. Use `zero_division` parameter to control this behavior.\n",
      "  _warn_prf(average, modifier, f\"{metric.capitalize()} is\", len(result))\n",
      "D:\\Projects\\ML\\GCN\\Framework\\cuda_tree_model\\.venv\\Lib\\site-packages\\sklearn\\metrics\\_classification.py:1509: UndefinedMetricWarning: Recall is ill-defined and being set to 0.0 in labels with no true samples. Use `zero_division` parameter to control this behavior.\n",
      "  _warn_prf(average, modifier, f\"{metric.capitalize()} is\", len(result))\n",
      "D:\\Projects\\ML\\GCN\\Framework\\cuda_tree_model\\.venv\\Lib\\site-packages\\sklearn\\metrics\\_classification.py:1509: UndefinedMetricWarning: Precision is ill-defined and being set to 0.0 in labels with no predicted samples. Use `zero_division` parameter to control this behavior.\n",
      "  _warn_prf(average, modifier, f\"{metric.capitalize()} is\", len(result))\n",
      "D:\\Projects\\ML\\GCN\\Framework\\cuda_tree_model\\.venv\\Lib\\site-packages\\sklearn\\metrics\\_classification.py:1509: UndefinedMetricWarning: Recall is ill-defined and being set to 0.0 in labels with no true samples. Use `zero_division` parameter to control this behavior.\n",
      "  _warn_prf(average, modifier, f\"{metric.capitalize()} is\", len(result))\n"
     ]
    },
    {
     "name": "stdout",
     "output_type": "stream",
     "text": [
      "'0': P: 0.0 , R: 0.0 , F1: 0.0 , conf: 0.65\n",
      "'1': P: 0.9891304347826086 , R: 0.419468546637744 , F1: 0.5891089108910891 , conf: 0.65\n",
      "'2': P: 0.0 , R: 0.0 , F1: 0.0 , conf: 0.65\n",
      "'3': P: 0.9998046493455753 , R: 0.9074468085106383 , F1: 0.9513895343433405 , conf: 0.65\n",
      "weighted: P: 0.8833645263756593 , R: 0.6339769808808142 , F1: 0.7170617936899817 , conf: 0.65\n"
     ]
    },
    {
     "name": "stderr",
     "output_type": "stream",
     "text": [
      "D:\\Projects\\ML\\GCN\\Framework\\cuda_tree_model\\.venv\\Lib\\site-packages\\sklearn\\metrics\\_classification.py:1509: UndefinedMetricWarning: Precision is ill-defined and being set to 0.0 in labels with no predicted samples. Use `zero_division` parameter to control this behavior.\n",
      "  _warn_prf(average, modifier, f\"{metric.capitalize()} is\", len(result))\n",
      "D:\\Projects\\ML\\GCN\\Framework\\cuda_tree_model\\.venv\\Lib\\site-packages\\sklearn\\metrics\\_classification.py:1509: UndefinedMetricWarning: Recall is ill-defined and being set to 0.0 in labels with no true samples. Use `zero_division` parameter to control this behavior.\n",
      "  _warn_prf(average, modifier, f\"{metric.capitalize()} is\", len(result))\n",
      "D:\\Projects\\ML\\GCN\\Framework\\cuda_tree_model\\.venv\\Lib\\site-packages\\sklearn\\metrics\\_classification.py:1509: UndefinedMetricWarning: Precision is ill-defined and being set to 0.0 in labels with no predicted samples. Use `zero_division` parameter to control this behavior.\n",
      "  _warn_prf(average, modifier, f\"{metric.capitalize()} is\", len(result))\n",
      "D:\\Projects\\ML\\GCN\\Framework\\cuda_tree_model\\.venv\\Lib\\site-packages\\sklearn\\metrics\\_classification.py:1509: UndefinedMetricWarning: Recall is ill-defined and being set to 0.0 in labels with no true samples. Use `zero_division` parameter to control this behavior.\n",
      "  _warn_prf(average, modifier, f\"{metric.capitalize()} is\", len(result))\n"
     ]
    },
    {
     "name": "stdout",
     "output_type": "stream",
     "text": [
      "'0': P: 0.0 , R: 0.0 , F1: 0.0 , conf: 0.7\n",
      "'1': P: 0.9925187032418953 , R: 0.3237527114967462 , F1: 0.48824371294213864 , conf: 0.7\n",
      "'2': P: 0.0 , R: 0.0 , F1: 0.0 , conf: 0.7\n",
      "'3': P: 1.0 , R: 0.8799645390070922 , F1: 0.936150146185042 , conf: 0.7\n",
      "weighted: P: 0.8846579451684685 , R: 0.58565585465614 , F1: 0.6735022959967891 , conf: 0.7\n"
     ]
    },
    {
     "name": "stderr",
     "output_type": "stream",
     "text": [
      "D:\\Projects\\ML\\GCN\\Framework\\cuda_tree_model\\.venv\\Lib\\site-packages\\sklearn\\metrics\\_classification.py:1509: UndefinedMetricWarning: Precision is ill-defined and being set to 0.0 in labels with no predicted samples. Use `zero_division` parameter to control this behavior.\n",
      "  _warn_prf(average, modifier, f\"{metric.capitalize()} is\", len(result))\n",
      "D:\\Projects\\ML\\GCN\\Framework\\cuda_tree_model\\.venv\\Lib\\site-packages\\sklearn\\metrics\\_classification.py:1509: UndefinedMetricWarning: Recall is ill-defined and being set to 0.0 in labels with no true samples. Use `zero_division` parameter to control this behavior.\n",
      "  _warn_prf(average, modifier, f\"{metric.capitalize()} is\", len(result))\n",
      "D:\\Projects\\ML\\GCN\\Framework\\cuda_tree_model\\.venv\\Lib\\site-packages\\sklearn\\metrics\\_classification.py:1509: UndefinedMetricWarning: Precision is ill-defined and being set to 0.0 in labels with no predicted samples. Use `zero_division` parameter to control this behavior.\n",
      "  _warn_prf(average, modifier, f\"{metric.capitalize()} is\", len(result))\n",
      "D:\\Projects\\ML\\GCN\\Framework\\cuda_tree_model\\.venv\\Lib\\site-packages\\sklearn\\metrics\\_classification.py:1509: UndefinedMetricWarning: Recall is ill-defined and being set to 0.0 in labels with no true samples. Use `zero_division` parameter to control this behavior.\n",
      "  _warn_prf(average, modifier, f\"{metric.capitalize()} is\", len(result))\n"
     ]
    },
    {
     "name": "stdout",
     "output_type": "stream",
     "text": [
      "'0': P: 0.0 , R: 0.0 , F1: 0.0 , conf: 0.75\n",
      "'1': P: 0.995418098510882 , R: 0.2356290672451193 , F1: 0.38105678579258934 , conf: 0.75\n",
      "'2': P: 0.0 , R: 0.0 , F1: 0.0 , conf: 0.75\n",
      "'3': P: 1.0 , R: 0.8450354609929078 , F1: 0.9160099942340957 , conf: 0.75\n",
      "weighted: P: 0.8856750639501696 , R: 0.5360030438504708 , F1: 0.6250959567662293 , conf: 0.75\n"
     ]
    },
    {
     "name": "stderr",
     "output_type": "stream",
     "text": [
      "D:\\Projects\\ML\\GCN\\Framework\\cuda_tree_model\\.venv\\Lib\\site-packages\\sklearn\\metrics\\_classification.py:1509: UndefinedMetricWarning: Precision is ill-defined and being set to 0.0 in labels with no predicted samples. Use `zero_division` parameter to control this behavior.\n",
      "  _warn_prf(average, modifier, f\"{metric.capitalize()} is\", len(result))\n",
      "D:\\Projects\\ML\\GCN\\Framework\\cuda_tree_model\\.venv\\Lib\\site-packages\\sklearn\\metrics\\_classification.py:1509: UndefinedMetricWarning: Recall is ill-defined and being set to 0.0 in labels with no true samples. Use `zero_division` parameter to control this behavior.\n",
      "  _warn_prf(average, modifier, f\"{metric.capitalize()} is\", len(result))\n",
      "D:\\Projects\\ML\\GCN\\Framework\\cuda_tree_model\\.venv\\Lib\\site-packages\\sklearn\\metrics\\_classification.py:1509: UndefinedMetricWarning: Precision is ill-defined and being set to 0.0 in labels with no predicted samples. Use `zero_division` parameter to control this behavior.\n",
      "  _warn_prf(average, modifier, f\"{metric.capitalize()} is\", len(result))\n",
      "D:\\Projects\\ML\\GCN\\Framework\\cuda_tree_model\\.venv\\Lib\\site-packages\\sklearn\\metrics\\_classification.py:1509: UndefinedMetricWarning: Recall is ill-defined and being set to 0.0 in labels with no true samples. Use `zero_division` parameter to control this behavior.\n",
      "  _warn_prf(average, modifier, f\"{metric.capitalize()} is\", len(result))\n"
     ]
    },
    {
     "name": "stdout",
     "output_type": "stream",
     "text": [
      "'0': P: 0.0 , R: 0.0 , F1: 0.0 , conf: 0.8\n",
      "'1': P: 0.9932998324958124 , R: 0.16079175704989154 , F1: 0.276779463243874 , conf: 0.8\n",
      "'2': P: 0.0 , R: 0.0 , F1: 0.0 , conf: 0.8\n",
      "'3': P: 1.0 , R: 0.8125886524822695 , F1: 0.8966056930450944 , conf: 0.8\n",
      "weighted: P: 0.884931968253073 , R: 0.492342813659279 , F1: 0.5781050860094873 , conf: 0.8\n"
     ]
    },
    {
     "name": "stderr",
     "output_type": "stream",
     "text": [
      "D:\\Projects\\ML\\GCN\\Framework\\cuda_tree_model\\.venv\\Lib\\site-packages\\sklearn\\metrics\\_classification.py:1509: UndefinedMetricWarning: Precision is ill-defined and being set to 0.0 in labels with no predicted samples. Use `zero_division` parameter to control this behavior.\n",
      "  _warn_prf(average, modifier, f\"{metric.capitalize()} is\", len(result))\n",
      "D:\\Projects\\ML\\GCN\\Framework\\cuda_tree_model\\.venv\\Lib\\site-packages\\sklearn\\metrics\\_classification.py:1509: UndefinedMetricWarning: Recall is ill-defined and being set to 0.0 in labels with no true samples. Use `zero_division` parameter to control this behavior.\n",
      "  _warn_prf(average, modifier, f\"{metric.capitalize()} is\", len(result))\n",
      "D:\\Projects\\ML\\GCN\\Framework\\cuda_tree_model\\.venv\\Lib\\site-packages\\sklearn\\metrics\\_classification.py:1509: UndefinedMetricWarning: Precision is ill-defined and being set to 0.0 in labels with no predicted samples. Use `zero_division` parameter to control this behavior.\n",
      "  _warn_prf(average, modifier, f\"{metric.capitalize()} is\", len(result))\n",
      "D:\\Projects\\ML\\GCN\\Framework\\cuda_tree_model\\.venv\\Lib\\site-packages\\sklearn\\metrics\\_classification.py:1509: UndefinedMetricWarning: Recall is ill-defined and being set to 0.0 in labels with no true samples. Use `zero_division` parameter to control this behavior.\n",
      "  _warn_prf(average, modifier, f\"{metric.capitalize()} is\", len(result))\n"
     ]
    },
    {
     "name": "stdout",
     "output_type": "stream",
     "text": [
      "'0': P: 0.0 , R: 0.0 , F1: 0.0 , conf: 0.85\n",
      "'1': P: 0.9945652173913043 , R: 0.0992407809110629 , F1: 0.1804733727810651 , conf: 0.85\n",
      "'2': P: 0.0 , R: 0.0 , F1: 0.0 , conf: 0.85\n",
      "'3': P: 1.0 , R: 0.7696808510638298 , F1: 0.8698527201683198 , conf: 0.85\n",
      "weighted: P: 0.885375870040819 , R: 0.4477313801959479 , F1: 0.529968148061057 , conf: 0.85\n"
     ]
    },
    {
     "name": "stderr",
     "output_type": "stream",
     "text": [
      "D:\\Projects\\ML\\GCN\\Framework\\cuda_tree_model\\.venv\\Lib\\site-packages\\sklearn\\metrics\\_classification.py:1509: UndefinedMetricWarning: Precision is ill-defined and being set to 0.0 in labels with no predicted samples. Use `zero_division` parameter to control this behavior.\n",
      "  _warn_prf(average, modifier, f\"{metric.capitalize()} is\", len(result))\n",
      "D:\\Projects\\ML\\GCN\\Framework\\cuda_tree_model\\.venv\\Lib\\site-packages\\sklearn\\metrics\\_classification.py:1509: UndefinedMetricWarning: Recall is ill-defined and being set to 0.0 in labels with no true samples. Use `zero_division` parameter to control this behavior.\n",
      "  _warn_prf(average, modifier, f\"{metric.capitalize()} is\", len(result))\n",
      "D:\\Projects\\ML\\GCN\\Framework\\cuda_tree_model\\.venv\\Lib\\site-packages\\sklearn\\metrics\\_classification.py:1509: UndefinedMetricWarning: Precision is ill-defined and being set to 0.0 in labels with no predicted samples. Use `zero_division` parameter to control this behavior.\n",
      "  _warn_prf(average, modifier, f\"{metric.capitalize()} is\", len(result))\n",
      "D:\\Projects\\ML\\GCN\\Framework\\cuda_tree_model\\.venv\\Lib\\site-packages\\sklearn\\metrics\\_classification.py:1509: UndefinedMetricWarning: Recall is ill-defined and being set to 0.0 in labels with no true samples. Use `zero_division` parameter to control this behavior.\n",
      "  _warn_prf(average, modifier, f\"{metric.capitalize()} is\", len(result))\n"
     ]
    },
    {
     "name": "stdout",
     "output_type": "stream",
     "text": [
      "'0': P: 0.0 , R: 0.0 , F1: 0.0 , conf: 0.9\n",
      "'1': P: 0.9948453608247423 , R: 0.05233188720173536 , F1: 0.0994332818134982 , conf: 0.9\n",
      "'2': P: 0.0 , R: 0.0 , F1: 0.0 , conf: 0.9\n",
      "'3': P: 1.0 , R: 0.7210992907801419 , F1: 0.8379519934068198 , conf: 0.9\n",
      "weighted: P: 0.8854741454125036 , R: 0.40521259393132314 , F1: 0.48442492020761385 , conf: 0.9\n"
     ]
    },
    {
     "name": "stderr",
     "output_type": "stream",
     "text": [
      "D:\\Projects\\ML\\GCN\\Framework\\cuda_tree_model\\.venv\\Lib\\site-packages\\sklearn\\metrics\\_classification.py:1509: UndefinedMetricWarning: Precision is ill-defined and being set to 0.0 in labels with no predicted samples. Use `zero_division` parameter to control this behavior.\n",
      "  _warn_prf(average, modifier, f\"{metric.capitalize()} is\", len(result))\n",
      "D:\\Projects\\ML\\GCN\\Framework\\cuda_tree_model\\.venv\\Lib\\site-packages\\sklearn\\metrics\\_classification.py:1509: UndefinedMetricWarning: Recall is ill-defined and being set to 0.0 in labels with no true samples. Use `zero_division` parameter to control this behavior.\n",
      "  _warn_prf(average, modifier, f\"{metric.capitalize()} is\", len(result))\n",
      "D:\\Projects\\ML\\GCN\\Framework\\cuda_tree_model\\.venv\\Lib\\site-packages\\sklearn\\metrics\\_classification.py:1509: UndefinedMetricWarning: Precision is ill-defined and being set to 0.0 in labels with no predicted samples. Use `zero_division` parameter to control this behavior.\n",
      "  _warn_prf(average, modifier, f\"{metric.capitalize()} is\", len(result))\n",
      "D:\\Projects\\ML\\GCN\\Framework\\cuda_tree_model\\.venv\\Lib\\site-packages\\sklearn\\metrics\\_classification.py:1509: UndefinedMetricWarning: Recall is ill-defined and being set to 0.0 in labels with no true samples. Use `zero_division` parameter to control this behavior.\n",
      "  _warn_prf(average, modifier, f\"{metric.capitalize()} is\", len(result))\n"
     ]
    },
    {
     "name": "stdout",
     "output_type": "stream",
     "text": [
      "'0': P: 0.0 , R: 0.0 , F1: 0.0 , conf: 0.95\n",
      "'1': P: 0.975609756097561 , R: 0.010845986984815618 , F1: 0.02145347278090641 , conf: 0.95\n",
      "'2': P: 0.0 , R: 0.0 , F1: 0.0 , conf: 0.95\n",
      "'3': P: 1.0 , R: 0.6418439716312057 , F1: 0.7818574514038877 , conf: 0.95\n",
      "weighted: P: 0.8787262228182064 , R: 0.3481403976029678 , F1: 0.4269757855544479 , conf: 0.95\n",
      "'0': P: 0.0 , R: 0.0 , F1: 0.0 , conf: 1.0\n",
      "'1': P: 0.0 , R: 0.0 , F1: 0.0 , conf: 1.0\n",
      "'2': P: 0.0 , R: 0.0 , F1: 0.0 , conf: 1.0\n",
      "'3': P: 0.0 , R: 0.0 , F1: 0.0 , conf: 1.0\n",
      "weighted: P: 0.0 , R: 0.0 , F1: 0.0 , conf: 1.0\n"
     ]
    },
    {
     "name": "stderr",
     "output_type": "stream",
     "text": [
      "D:\\Projects\\ML\\GCN\\Framework\\cuda_tree_model\\.venv\\Lib\\site-packages\\sklearn\\metrics\\_classification.py:1509: UndefinedMetricWarning: Precision is ill-defined and being set to 0.0 in labels with no predicted samples. Use `zero_division` parameter to control this behavior.\n",
      "  _warn_prf(average, modifier, f\"{metric.capitalize()} is\", len(result))\n",
      "D:\\Projects\\ML\\GCN\\Framework\\cuda_tree_model\\.venv\\Lib\\site-packages\\sklearn\\metrics\\_classification.py:1509: UndefinedMetricWarning: Recall is ill-defined and being set to 0.0 in labels with no true samples. Use `zero_division` parameter to control this behavior.\n",
      "  _warn_prf(average, modifier, f\"{metric.capitalize()} is\", len(result))\n",
      "D:\\Projects\\ML\\GCN\\Framework\\cuda_tree_model\\.venv\\Lib\\site-packages\\sklearn\\metrics\\_classification.py:1509: UndefinedMetricWarning: Precision is ill-defined and being set to 0.0 in labels with no predicted samples. Use `zero_division` parameter to control this behavior.\n",
      "  _warn_prf(average, modifier, f\"{metric.capitalize()} is\", len(result))\n",
      "D:\\Projects\\ML\\GCN\\Framework\\cuda_tree_model\\.venv\\Lib\\site-packages\\sklearn\\metrics\\_classification.py:1509: UndefinedMetricWarning: Recall is ill-defined and being set to 0.0 in labels with no true samples. Use `zero_division` parameter to control this behavior.\n",
      "  _warn_prf(average, modifier, f\"{metric.capitalize()} is\", len(result))\n"
     ]
    }
   ],
   "execution_count": 72
  },
  {
   "metadata": {
    "ExecuteTime": {
     "end_time": "2024-06-08T21:52:14.614165Z",
     "start_time": "2024-06-08T21:52:14.609948Z"
    }
   },
   "cell_type": "code",
   "source": "",
   "id": "d39a56e6f0af5d7d",
   "outputs": [],
   "execution_count": 72
  }
 ],
 "metadata": {
  "kernelspec": {
   "display_name": "Python 3",
   "language": "python",
   "name": "python3"
  },
  "language_info": {
   "codemirror_mode": {
    "name": "ipython",
    "version": 2
   },
   "file_extension": ".py",
   "mimetype": "text/x-python",
   "name": "python",
   "nbconvert_exporter": "python",
   "pygments_lexer": "ipython2",
   "version": "2.7.6"
  }
 },
 "nbformat": 4,
 "nbformat_minor": 5
}
