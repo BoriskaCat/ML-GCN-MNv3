{
 "cells": [
  {
   "metadata": {
    "ExecuteTime": {
     "end_time": "2024-06-04T22:16:44.609654Z",
     "start_time": "2024-06-04T22:16:41.271317Z"
    }
   },
   "cell_type": "code",
   "source": [
    "import os\n",
    "import cv2\n",
    "import torch\n",
    "from torch.utils.data import Dataset, DataLoader\n",
    "from torchvision import transforms\n",
    "import json"
   ],
   "id": "421c78bb109f914e",
   "outputs": [],
   "execution_count": 1
  },
  {
   "metadata": {
    "ExecuteTime": {
     "end_time": "2024-06-04T22:16:45.492540Z",
     "start_time": "2024-06-04T22:16:45.488540Z"
    }
   },
   "cell_type": "code",
   "source": "image_size = 224  # MobileNet typically uses 224x224 images",
   "id": "1baef42a440f81ee",
   "outputs": [],
   "execution_count": 2
  },
  {
   "metadata": {
    "ExecuteTime": {
     "end_time": "2024-06-04T22:16:46.270016Z",
     "start_time": "2024-06-04T22:16:46.265333Z"
    }
   },
   "cell_type": "code",
   "source": [
    "def create_class_mapping(dataset_dir):\n",
    "    class_to_idx = {}\n",
    "    current_idx = 0\n",
    "\n",
    "    for folder in ['train', 'valid', 'test']:\n",
    "        label_path = os.path.join(dataset_dir, folder, 'labels')\n",
    "        \n",
    "        for label_file in os.listdir(label_path):\n",
    "            if label_file.endswith(\".txt\"):\n",
    "                with (open(os.path.join(label_path, label_file), 'r')\n",
    "                      as f):\n",
    "                    lines = f.readlines()\n",
    "                for line in lines:\n",
    "                    class_name = line.split()[0]\n",
    "                    if class_name not in class_to_idx:\n",
    "                        class_to_idx[class_name] = current_idx\n",
    "                        current_idx += 1\n",
    "                        \n",
    "    return class_to_idx"
   ],
   "id": "ee91ec97d23aa488",
   "outputs": [],
   "execution_count": 3
  },
  {
   "metadata": {
    "ExecuteTime": {
     "end_time": "2024-06-04T22:16:47.341615Z",
     "start_time": "2024-06-04T22:16:47.335322Z"
    }
   },
   "cell_type": "code",
   "source": [
    "class CustomDataset(Dataset):\n",
    "    def __init__(self, dataset_dir, folder, class_to_idx, \n",
    "                 transform=None):\n",
    "        self.dataset_dir = dataset_dir\n",
    "        self.folder = folder\n",
    "        self.class_to_idx = class_to_idx\n",
    "        self.transform = transform\n",
    "\n",
    "        self.samples = []\n",
    "\n",
    "        label_path = os.path.join(self.dataset_dir, self.folder, \n",
    "                                  'labels')\n",
    "        image_path = os.path.join(self.dataset_dir, self.folder, \n",
    "                                  'images')\n",
    "\n",
    "        for label_file in os.listdir(label_path):\n",
    "            if label_file.endswith(\".txt\"):\n",
    "                labels_and_bboxes = self.read_label_file(\n",
    "                    os.path.join(label_path, label_file))\n",
    "                image_file = os.path.join(image_path, label_file\n",
    "                                          .replace('.txt', '.jpg'))\n",
    "                \n",
    "                for class_id, bbox in labels_and_bboxes:\n",
    "                    self.samples.append((image_file, bbox, class_id))\n",
    "\n",
    "    def read_label_file(self, label_file):\n",
    "        with open(label_file, 'r') as f:\n",
    "            lines = f.readlines()\n",
    "        labels_and_bboxes = []\n",
    "        for line in lines:\n",
    "            label_data = line.strip().split()\n",
    "            class_name = label_data[0]\n",
    "            bbox = list(map(int, label_data[1:])) \n",
    "            class_id = self.class_to_idx[class_name]\n",
    "            labels_and_bboxes.append((class_id, bbox))\n",
    "        return labels_and_bboxes\n",
    "\n",
    "    def __len__(self):\n",
    "        return len(self.samples)\n",
    "\n",
    "    def __getitem__(self, idx):\n",
    "        image_file, bbox, label = self.samples[idx]\n",
    "        \n",
    "        image = cv2.imread(image_file)\n",
    "\n",
    "        xmin, ymin, xmax, ymax = bbox\n",
    "        cropped_image = image[ymin:ymax, xmin:xmax]\n",
    "\n",
    "        if self.transform:\n",
    "            cropped_image = self.transform(cropped_image)\n",
    "        \n",
    "        return cropped_image, label"
   ],
   "id": "b994306b43a9a3ca",
   "outputs": [],
   "execution_count": 4
  },
  {
   "metadata": {
    "ExecuteTime": {
     "end_time": "2024-06-04T22:16:57.170134Z",
     "start_time": "2024-06-04T22:16:50.435548Z"
    }
   },
   "cell_type": "code",
   "source": [
    "# Load dataset\n",
    "dataset_dir = \"D:/Projects/ML/GCN/Dataset_classifier\"\n",
    "class_to_idx = create_class_mapping(dataset_dir)\n",
    "\n",
    "transform = transforms.Compose([\n",
    "    transforms.ToPILImage(),\n",
    "    transforms.Resize((image_size, image_size)),\n",
    "    transforms.ToTensor(),\n",
    "    transforms.Normalize([0.485, 0.456, 0.406], [0.229, 0.224, 0.225])\n",
    "])"
   ],
   "id": "6d09d74f657fa063",
   "outputs": [],
   "execution_count": 5
  },
  {
   "metadata": {
    "ExecuteTime": {
     "end_time": "2024-06-04T22:16:58.254126Z",
     "start_time": "2024-06-04T22:16:58.250494Z"
    }
   },
   "cell_type": "code",
   "source": "print(class_to_idx)",
   "id": "13bc79e40cea75b5",
   "outputs": [
    {
     "name": "stdout",
     "output_type": "stream",
     "text": [
      "{'LD': 0, 'HD': 1, 'other': 2, 'H': 3}\n"
     ]
    }
   ],
   "execution_count": 6
  },
  {
   "metadata": {
    "ExecuteTime": {
     "end_time": "2024-05-22T15:00:30.746176Z",
     "start_time": "2024-05-22T15:00:30.021163Z"
    }
   },
   "cell_type": "code",
   "source": [
    "train_dataset = CustomDataset(dataset_dir, 'train', class_to_idx, \n",
    "                              transform=transform)\n",
    "valid_dataset = CustomDataset(dataset_dir, 'valid', class_to_idx, \n",
    "                              transform=transform)\n",
    "test_dataset = CustomDataset(dataset_dir, 'test', class_to_idx, \n",
    "                             transform=transform)"
   ],
   "id": "d34391d4ba7ccdb5",
   "outputs": [],
   "execution_count": 6
  },
  {
   "metadata": {
    "ExecuteTime": {
     "end_time": "2024-05-22T15:00:48.301198Z",
     "start_time": "2024-05-22T15:00:48.296902Z"
    }
   },
   "cell_type": "code",
   "source": [
    "train_loader = DataLoader(train_dataset, batch_size=32, shuffle=True)\n",
    "valid_loader = DataLoader(valid_dataset, batch_size=32, shuffle=False)\n",
    "test_loader = DataLoader(test_dataset, batch_size=32, shuffle=False)"
   ],
   "id": "f2fdfcb797e82a3d",
   "outputs": [],
   "execution_count": 7
  },
  {
   "metadata": {},
   "cell_type": "markdown",
   "source": "Model load -- MobileNet_v3_small",
   "id": "5a974b0f8e41db55"
  },
  {
   "metadata": {
    "ExecuteTime": {
     "end_time": "2024-05-22T15:00:49.970344Z",
     "start_time": "2024-05-22T15:00:49.965325Z"
    }
   },
   "cell_type": "code",
   "source": [
    "import torch.nn as nn\n",
    "import torch.optim as optim\n",
    "from torchvision import models"
   ],
   "id": "801e22c77bb6e592",
   "outputs": [],
   "execution_count": 8
  },
  {
   "metadata": {
    "ExecuteTime": {
     "end_time": "2024-05-22T15:00:51.316192Z",
     "start_time": "2024-05-22T15:00:51.312804Z"
    }
   },
   "cell_type": "code",
   "source": "num_classes = len(class_to_idx)",
   "id": "25c070e86d72e9f9",
   "outputs": [],
   "execution_count": 9
  },
  {
   "metadata": {
    "ExecuteTime": {
     "end_time": "2024-05-22T15:00:58.990672Z",
     "start_time": "2024-05-22T15:00:58.754403Z"
    }
   },
   "cell_type": "code",
   "source": [
    "def build_model(num_classes):\n",
    "    model = models.mobilenet_v3_small(\n",
    "        weights='MobileNet_V3_Small_Weights.DEFAULT')\n",
    "    model.classifier[3] = nn.Linear(\n",
    "        model.classifier[3].in_features, num_classes)\n",
    "    return model\n",
    "\n",
    "model = build_model(num_classes)\n",
    "\n",
    "# model = models.mobilenet_v3_small()\n",
    "# model.classifier[3] = nn.Linear(\n",
    "#     model.classifier[3].in_features,num_classes)\n",
    "# model.load_state_dict(torch.load(\n",
    "#     f\"model_weights_v2/mobilenetv3_epoch_5.pth\"))"
   ],
   "id": "7c85ece012232c74",
   "outputs": [
    {
     "data": {
      "text/plain": [
       "<All keys matched successfully>"
      ]
     },
     "execution_count": 10,
     "metadata": {},
     "output_type": "execute_result"
    }
   ],
   "execution_count": 10
  },
  {
   "metadata": {},
   "cell_type": "markdown",
   "source": "Model training",
   "id": "409ccf5e18bd0cc"
  },
  {
   "metadata": {
    "ExecuteTime": {
     "end_time": "2024-05-22T15:01:01.635798Z",
     "start_time": "2024-05-22T15:01:01.614180Z"
    }
   },
   "cell_type": "code",
   "source": [
    "device = torch.device(\"cuda\" if torch.cuda.is_available() else \"cpu\")\n",
    "model = model.to(device)"
   ],
   "id": "d33c2b8bf8ce7899",
   "outputs": [],
   "execution_count": 11
  },
  {
   "metadata": {
    "ExecuteTime": {
     "end_time": "2024-05-22T15:01:03.326773Z",
     "start_time": "2024-05-22T15:01:03.322432Z"
    }
   },
   "cell_type": "code",
   "source": [
    "# Create a directory to save model weights\n",
    "save_dir = 'model_weights_v2'\n",
    "os.makedirs(save_dir, exist_ok=True)"
   ],
   "id": "a5eb7d868f81f90d",
   "outputs": [],
   "execution_count": 12
  },
  {
   "metadata": {
    "ExecuteTime": {
     "end_time": "2024-05-22T15:01:05.184343Z",
     "start_time": "2024-05-22T15:01:05.178020Z"
    }
   },
   "cell_type": "code",
   "source": [
    "criterion = nn.CrossEntropyLoss()\n",
    "optimizer = optim.Adam(model.parameters(), lr=0.0001)"
   ],
   "id": "60311a2c2dd868c",
   "outputs": [],
   "execution_count": 13
  },
  {
   "metadata": {
    "ExecuteTime": {
     "end_time": "2024-05-22T15:04:13.098770Z",
     "start_time": "2024-05-22T15:04:13.091958Z"
    }
   },
   "cell_type": "code",
   "source": [
    "def train_model(model, train_loader, valid_loader, criterion, \n",
    "                optimizer, epochs=10):\n",
    "    for epoch in range(5, epochs):\n",
    "        model.train()\n",
    "        running_loss = 0.0\n",
    "        \n",
    "        for inputs, labels in train_loader:\n",
    "            inputs, labels = inputs.to(device), labels.to(device)\n",
    "            optimizer.zero_grad()\n",
    "    \n",
    "            outputs = model(inputs)\n",
    "            loss = criterion(outputs, labels)\n",
    "            loss.backward()\n",
    "            optimizer.step()\n",
    "    \n",
    "            running_loss += loss.item() * inputs.size(0)\n",
    "        \n",
    "        epoch_loss = running_loss / len(train_loader.dataset)\n",
    "        print(f\"Epoch {epoch+1}/{epochs}, Loss: {epoch_loss:.6f}\")\n",
    "        \n",
    "        # Save model weights after each epoch\n",
    "        torch.save(model.state_dict(), os.path.join(\n",
    "            save_dir, f'mobilenetv3_epoch_{epoch+1}.pth'))\n",
    "    \n",
    "        # Validate\n",
    "        model.eval()\n",
    "        correct = 0\n",
    "        total = 0\n",
    "        with torch.no_grad():\n",
    "            for inputs, labels in valid_loader:\n",
    "                inputs, labels = inputs.to(device), labels.to(device)\n",
    "                outputs = model(inputs)\n",
    "                _, preds = torch.max(outputs, 1)\n",
    "                correct += (preds == labels).sum().item()\n",
    "                total += labels.size(0)\n",
    "            \n",
    "        val_accuracy = correct / total\n",
    "        print(f\"Validation Accuracy: {val_accuracy:.6f}\")\n",
    "        \n",
    "    return model"
   ],
   "id": "f5289d3632cccee1",
   "outputs": [],
   "execution_count": 14
  },
  {
   "metadata": {
    "ExecuteTime": {
     "start_time": "2024-05-22T15:04:19.359993Z"
    }
   },
   "cell_type": "code",
   "source": [
    "trained_model = train_model(model, train_loader, valid_loader, \n",
    "                            criterion, optimizer)"
   ],
   "id": "f02da01a4436f1b7",
   "outputs": [
    {
     "name": "stdout",
     "output_type": "stream",
     "text": [
      "Epoch 6/20, Loss: 0.086517\n",
      "Validation Accuracy: 0.952607\n",
      "Epoch 7/20, Loss: 0.068452\n",
      "Validation Accuracy: 0.948271\n",
      "Epoch 8/20, Loss: 0.053509\n",
      "Validation Accuracy: 0.948271\n",
      "Epoch 9/20, Loss: 0.040926\n",
      "Validation Accuracy: 0.947135\n",
      "Epoch 10/20, Loss: 0.034661\n",
      "Validation Accuracy: 0.947858\n"
     ]
    }
   ],
   "execution_count": null
  },
  {
   "metadata": {},
   "cell_type": "markdown",
   "source": "Model validation",
   "id": "1a9d1342baec7107"
  },
  {
   "metadata": {
    "ExecuteTime": {
     "end_time": "2024-05-21T08:36:12.318707Z",
     "start_time": "2024-05-21T07:42:29.922103Z"
    }
   },
   "cell_type": "code",
   "source": [
    "device = torch.device(\"cuda\" if torch.cuda.is_available() else \"cpu\")\n",
    "model = models.mobilenet_v3_small()\n",
    "model.classifier[3] = nn.Linear(model.classifier[3].in_features,\n",
    "                                num_classes)\n",
    "\n",
    "for i in range(1, 6):\n",
    "    # Load model state\n",
    "    state_dict = torch.load(f\"model_weights/mobilenetv3_epoch_{i}.pth\")\n",
    "\n",
    "    # Load it into model\n",
    "    model.load_state_dict(state_dict)\n",
    "\n",
    "    model = model.to(device)\n",
    "\n",
    "    # Validate\n",
    "    model.eval()\n",
    "    correct = 0\n",
    "    total = 0\n",
    "    with torch.no_grad():\n",
    "        for inputs, labels in valid_loader:\n",
    "            inputs, labels = inputs.to(device), labels.to(device)\n",
    "            outputs = model(inputs)\n",
    "            _, preds = torch.max(outputs, 1)\n",
    "            correct += (preds == labels).sum().item()\n",
    "            total += labels.size(0)\n",
    "        \n",
    "    val_accuracy = correct / total\n",
    "    print(f\"Validation Accuracy after epoch {i}: {val_accuracy:.4f}\")"
   ],
   "id": "aed6ead38427b191",
   "outputs": [
    {
     "name": "stdout",
     "output_type": "stream",
     "text": [
      "Validation Accuracy after epoch 1: 0.9313\n",
      "Validation Accuracy after epoch 2: 0.9417\n",
      "Validation Accuracy after epoch 3: 0.9455\n",
      "Validation Accuracy after epoch 4: 0.9513\n",
      "Validation Accuracy after epoch 5: 0.9402\n"
     ]
    }
   ],
   "execution_count": 10
  },
  {
   "metadata": {
    "ExecuteTime": {
     "end_time": "2024-05-21T09:40:26.079416Z",
     "start_time": "2024-05-21T08:44:44.115009Z"
    }
   },
   "cell_type": "code",
   "source": [
    "device = torch.device(\"cuda\" if torch.cuda.is_available() else \"cpu\")\n",
    "model = models.mobilenet_v3_small()\n",
    "model.classifier[3] = nn.Linear(model.classifier[3].in_features, \n",
    "                                num_classes)\n",
    "\n",
    "criterion = nn.CrossEntropyLoss()\n",
    "\n",
    "for i in range(1, 6):\n",
    "    # Load model state\n",
    "    state_dict = torch.load(f\"model_weights/mobilenetv3_epoch_{i}.pth\")\n",
    "\n",
    "    # Load it into model\n",
    "    model.load_state_dict(state_dict)\n",
    "\n",
    "    model = model.to(device)\n",
    "\n",
    "    # Validate\n",
    "    model.eval()\n",
    "    running_loss = 0.0\n",
    "    \n",
    "    for inputs, labels in valid_loader:\n",
    "        inputs, labels = inputs.to(device), labels.to(device)\n",
    "\n",
    "        outputs = model(inputs)\n",
    "        loss = criterion(outputs, labels)\n",
    "        loss.backward()\n",
    "\n",
    "        running_loss += loss.item() * inputs.size(0)\n",
    "    \n",
    "    epoch_loss = running_loss / len(valid_loader.dataset)\n",
    "    print(f\"Loss {i}: {epoch_loss:.6f}\")"
   ],
   "id": "973cece627aa7c20",
   "outputs": [
    {
     "name": "stdout",
     "output_type": "stream",
     "text": [
      "Loss 1: 0.160926\n",
      "Loss 2: 0.144894\n",
      "Loss 3: 0.130532\n",
      "Loss 4: 0.131385\n",
      "Loss 5: 0.150494\n"
     ]
    }
   ],
   "execution_count": 12
  },
  {
   "metadata": {},
   "cell_type": "code",
   "outputs": [],
   "execution_count": null,
   "source": "",
   "id": "8a873ec8bbfdccba"
  }
 ],
 "metadata": {
  "kernelspec": {
   "display_name": "Python 3",
   "language": "python",
   "name": "python3"
  },
  "language_info": {
   "codemirror_mode": {
    "name": "ipython",
    "version": 2
   },
   "file_extension": ".py",
   "mimetype": "text/x-python",
   "name": "python",
   "nbconvert_exporter": "python",
   "pygments_lexer": "ipython2",
   "version": "2.7.6"
  }
 },
 "nbformat": 4,
 "nbformat_minor": 5
}
